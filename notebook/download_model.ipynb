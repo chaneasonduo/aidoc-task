{
 "cells": [
  {
   "cell_type": "code",
   "execution_count": 2,
   "id": "b6a8aa47",
   "metadata": {},
   "outputs": [],
   "source": [
    "MODEL_PATH = \"../models\""
   ]
  },
  {
   "cell_type": "code",
   "execution_count": 3,
   "id": "4fa110b0",
   "metadata": {},
   "outputs": [],
   "source": [
    "model_name_list =['BAAI/bge-large-zh','moka-ai/m3e-base']"
   ]
  },
  {
   "cell_type": "code",
   "execution_count": null,
   "id": "a48b190e",
   "metadata": {},
   "outputs": [],
   "source": [
    "def model_name_to_path(model_name):\n",
    "    return model_name.replace(\"/\", \"__\")\n",
    "\n",
    "def download_model(model_name, model_path=MODEL_PATH):\n",
    "    from sentence_transformers import SentenceTransformer\n",
    "    import os\n",
    "\n",
    "    # 下载模型\n",
    "    model = SentenceTransformer(\"moka-ai/m3e-base\")\n",
    "\n",
    "    model_dir = model_name_to_path(model_name)\n",
    "\n",
    "    # 保存到本地目录（例如 ./my_m3e_model）\n",
    "    model.save(os.path.join(model_path, model_dir))\n",
    "\n",
    "for model_name in model_name_list:\n",
    "    download_model(model_name)\n"
   ]
  },
  {
   "cell_type": "code",
   "execution_count": null,
   "id": "c0112d4e",
   "metadata": {},
   "outputs": [
    {
     "data": {
      "text/plain": [
       "tensor([[ 0.0078,  1.1880,  0.8241,  ..., -0.4586, -0.3594, -0.5462],\n",
       "        [-0.3039,  1.5238,  0.6458,  ..., -1.0917, -0.8273, -0.7650]])"
      ]
     },
     "execution_count": 11,
     "metadata": {},
     "output_type": "execute_result"
    }
   ],
   "source": [
    "# 加载模型\n",
    "from sentence_transformers import SentenceTransformer\n",
    "import os\n",
    "\n",
    "model_dir = \"moka-ai__m3e-base\"\n",
    "# 加载离线模型（无联网也可用）\n",
    "model = SentenceTransformer(os.path.join(MODEL_PATH, model_dir))\n",
    "\n",
    "# 使用推理\n",
    "sentences = [\"点击设置按钮\", \"点击提交按钮\"]\n",
    "embeddings = model.encode(sentences, convert_to_tensor=True)\n",
    "embeddings"
   ]
  }
 ],
 "metadata": {
  "kernelspec": {
   "display_name": ".venv",
   "language": "python",
   "name": "python3"
  },
  "language_info": {
   "codemirror_mode": {
    "name": "ipython",
    "version": 3
   },
   "file_extension": ".py",
   "mimetype": "text/x-python",
   "name": "python",
   "nbconvert_exporter": "python",
   "pygments_lexer": "ipython3",
   "version": "3.9.19"
  }
 },
 "nbformat": 4,
 "nbformat_minor": 5
}
