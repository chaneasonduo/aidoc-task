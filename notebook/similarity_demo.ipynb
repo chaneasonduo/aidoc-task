{
 "cells": [
  {
   "cell_type": "code",
   "execution_count": 1,
   "id": "1c5fc2cc",
   "metadata": {},
   "outputs": [
    {
     "data": {
      "application/vnd.jupyter.widget-view+json": {
       "model_id": "9171921953d942b399fbbce330c6fa0a",
       "version_major": 2,
       "version_minor": 0
      },
      "text/plain": [
       "modules.json:   0%|          | 0.00/349 [00:00<?, ?B/s]"
      ]
     },
     "metadata": {},
     "output_type": "display_data"
    },
    {
     "data": {
      "application/vnd.jupyter.widget-view+json": {
       "model_id": "eb348951d24b45c4aedb79c471583fc7",
       "version_major": 2,
       "version_minor": 0
      },
      "text/plain": [
       "config_sentence_transformers.json:   0%|          | 0.00/116 [00:00<?, ?B/s]"
      ]
     },
     "metadata": {},
     "output_type": "display_data"
    },
    {
     "data": {
      "application/vnd.jupyter.widget-view+json": {
       "model_id": "73291c9a48d34d11897a2b02e70c145a",
       "version_major": 2,
       "version_minor": 0
      },
      "text/plain": [
       "README.md: 0.00B [00:00, ?B/s]"
      ]
     },
     "metadata": {},
     "output_type": "display_data"
    },
    {
     "data": {
      "application/vnd.jupyter.widget-view+json": {
       "model_id": "03016b598e754428a231460c02e6d335",
       "version_major": 2,
       "version_minor": 0
      },
      "text/plain": [
       "sentence_bert_config.json:   0%|          | 0.00/53.0 [00:00<?, ?B/s]"
      ]
     },
     "metadata": {},
     "output_type": "display_data"
    },
    {
     "data": {
      "application/vnd.jupyter.widget-view+json": {
       "model_id": "c477c3a8d46f4755aeab470511db7a5a",
       "version_major": 2,
       "version_minor": 0
      },
      "text/plain": [
       "config.json:   0%|          | 0.00/612 [00:00<?, ?B/s]"
      ]
     },
     "metadata": {},
     "output_type": "display_data"
    },
    {
     "name": "stderr",
     "output_type": "stream",
     "text": [
      "Xet Storage is enabled for this repo, but the 'hf_xet' package is not installed. Falling back to regular HTTP download. For better performance, install the package with: `pip install huggingface_hub[hf_xet]` or `pip install hf_xet`\n"
     ]
    },
    {
     "data": {
      "application/vnd.jupyter.widget-view+json": {
       "model_id": "47a629adf5274a45a4822c12158fde18",
       "version_major": 2,
       "version_minor": 0
      },
      "text/plain": [
       "model.safetensors:   0%|          | 0.00/90.9M [00:00<?, ?B/s]"
      ]
     },
     "metadata": {},
     "output_type": "display_data"
    },
    {
     "data": {
      "application/vnd.jupyter.widget-view+json": {
       "model_id": "1fcded5b36dc4157a24e1134a9d07b88",
       "version_major": 2,
       "version_minor": 0
      },
      "text/plain": [
       "tokenizer_config.json:   0%|          | 0.00/350 [00:00<?, ?B/s]"
      ]
     },
     "metadata": {},
     "output_type": "display_data"
    },
    {
     "data": {
      "application/vnd.jupyter.widget-view+json": {
       "model_id": "4a9d269a92fa417ea09e9f7799c9afd3",
       "version_major": 2,
       "version_minor": 0
      },
      "text/plain": [
       "vocab.txt: 0.00B [00:00, ?B/s]"
      ]
     },
     "metadata": {},
     "output_type": "display_data"
    },
    {
     "data": {
      "application/vnd.jupyter.widget-view+json": {
       "model_id": "7b119f1df0574b1a9f8262fc8c71f652",
       "version_major": 2,
       "version_minor": 0
      },
      "text/plain": [
       "tokenizer.json: 0.00B [00:00, ?B/s]"
      ]
     },
     "metadata": {},
     "output_type": "display_data"
    },
    {
     "data": {
      "application/vnd.jupyter.widget-view+json": {
       "model_id": "5de3c6aea53a4d2aa1c0e75712a8a012",
       "version_major": 2,
       "version_minor": 0
      },
      "text/plain": [
       "special_tokens_map.json:   0%|          | 0.00/112 [00:00<?, ?B/s]"
      ]
     },
     "metadata": {},
     "output_type": "display_data"
    },
    {
     "data": {
      "application/vnd.jupyter.widget-view+json": {
       "model_id": "8b17b29a2d984773bc5c5b948b2d0545",
       "version_major": 2,
       "version_minor": 0
      },
      "text/plain": [
       "config.json:   0%|          | 0.00/190 [00:00<?, ?B/s]"
      ]
     },
     "metadata": {},
     "output_type": "display_data"
    },
    {
     "name": "stdout",
     "output_type": "stream",
     "text": [
      "tensor([[ 1.0000,  0.4944,  0.0172,  0.1009],\n",
      "        [ 0.4944,  1.0000,  0.0217,  0.0786],\n",
      "        [ 0.0172,  0.0217,  1.0000, -0.0346],\n",
      "        [ 0.1009,  0.0786, -0.0346,  1.0000]])\n"
     ]
    }
   ],
   "source": [
    "from sentence_transformers import SentenceTransformer, util\n",
    "\n",
    "# 1. 加载预训练 embedding 模型（纯句子表示模型）\n",
    "model = SentenceTransformer(\"sentence-transformers/all-MiniLM-L6-v2\")\n",
    "\n",
    "# 2. 你的语料（可任意句子）\n",
    "sentences = [\n",
    "    \"How are you doing today?\",\n",
    "    \"What is your plan for the day?\",\n",
    "    \"The cat sat on the mat.\",\n",
    "    \"This sentence is entirely different.\"\n",
    "]\n",
    "\n",
    "# 3. 转换成向量（每个句子 → 384维向量）\n",
    "embeddings = model.encode(sentences, convert_to_tensor=True)\n",
    "\n",
    "# 4. 计算句子之间的相似度（余弦相似度）\n",
    "similarities = util.pytorch_cos_sim(embeddings, embeddings)  # shape: [4, 4]\n",
    "\n",
    "# 5. 打印相似度矩阵\n",
    "print(similarities)\n"
   ]
  },
  {
   "cell_type": "code",
   "execution_count": 8,
   "id": "f5022919",
   "metadata": {},
   "outputs": [
    {
     "name": "stdout",
     "output_type": "stream",
     "text": [
      "\n",
      "用例0：今天天气不错\n",
      "  最相似：我今天吃饭了（相似度：0.7877）\n",
      "\n",
      "用例1：我今天吃饭了\n",
      "  最相似：今天天气不错（相似度：0.7877）\n",
      "\n",
      "用例2：你是猪\n",
      "  最相似：我今天吃饭了（相似度：0.7171）\n"
     ]
    }
   ],
   "source": [
    "# from sentence_transformers import SentenceTransformer, util\n",
    "\n",
    "# # 选择合适模型\n",
    "# model = SentenceTransformer(\"BAAI/bge-large-zh\")\n",
    "\n",
    "# 示例测试用例（简化）\n",
    "cases = [\n",
    "    \"今天天气不错\",\n",
    "    \"我今天吃饭了\",\n",
    "    \"你是猪\"\n",
    "]\n",
    "\n",
    "# 向量化\n",
    "embeddings = model.encode(cases, convert_to_tensor=True)\n",
    "\n",
    "# 计算两两相似度（余弦）\n",
    "similarities = util.pytorch_cos_sim(embeddings, embeddings)\n",
    "\n",
    "# 打印 top 相似用例对\n",
    "import torch\n",
    "top_k = torch.topk(similarities, k=2, dim=-1)  # 每个用例找最相近的1个（自己是第1）\n",
    "\n",
    "for i, (score, idx) in enumerate(zip(top_k.values, top_k.indices)):\n",
    "    print(f\"\\n用例{i}：{cases[i]}\")\n",
    "    for j in range(1, 2):  # 跳过自己\n",
    "        print(f\"  最相似：{cases[idx[j]]}（相似度：{score[j]:.4f}）\")\n"
   ]
  }
 ],
 "metadata": {
  "kernelspec": {
   "display_name": ".venv",
   "language": "python",
   "name": "python3"
  },
  "language_info": {
   "codemirror_mode": {
    "name": "ipython",
    "version": 3
   },
   "file_extension": ".py",
   "mimetype": "text/x-python",
   "name": "python",
   "nbconvert_exporter": "python",
   "pygments_lexer": "ipython3",
   "version": "3.9.19"
  }
 },
 "nbformat": 4,
 "nbformat_minor": 5
}
