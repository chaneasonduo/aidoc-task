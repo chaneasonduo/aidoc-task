{
 "cells": [
  {
   "cell_type": "code",
   "execution_count": 19,
   "id": "4c322497",
   "metadata": {},
   "outputs": [],
   "source": [
    "tools = [\n",
    "    {\n",
    "        \"type\": \"function\",\n",
    "        \"function\": {\n",
    "            \"name\": \"get_weather\",\n",
    "            \"description\": \"Get the current weather in a given location\",\n",
    "            \"parameters\": {\n",
    "                \"city\": {\n",
    "                    \"type\": \"string\",\n",
    "                    \"description\": \"The city to get the weather for\"\n",
    "                }\n",
    "            }\n",
    "        }\n",
    "    }\n",
    "]"
   ]
  },
  {
   "cell_type": "code",
   "execution_count": 17,
   "id": "01c1ea40",
   "metadata": {},
   "outputs": [],
   "source": [
    "import os\n",
    "from openai import OpenAI\n",
    "\n",
    "\n",
    "client = OpenAI(\n",
    "    # 若没有配置环境变量，请用百炼API Key将下行替换为：api_key=\"sk-xxx\",\n",
    "    api_key=os.getenv(\"DASHSCOPE_API_KEY\"),\n",
    "    base_url=\"https://dashscope.aliyuncs.com/compatible-mode/v1\",\n",
    ")"
   ]
  },
  {
   "cell_type": "code",
   "execution_count": 25,
   "id": "7945b23e",
   "metadata": {},
   "outputs": [],
   "source": [
    "def sned_message(message):\n",
    "    response = client.chat.completions.create(\n",
    "        model=\"qwen3-32b\",\n",
    "        messages=message,\n",
    "        tools=tools,\n",
    "        extra_body={\"enable_thinking\": False},\n",
    "    )\n",
    "    return response.choices[0].message\n",
    "\n",
    "def send_message_stream(message):\n",
    "    stream = client.chat.completions.create(\n",
    "        model=\"qwen3-32b\",\n",
    "        messages=message,\n",
    "        tools=tools,\n",
    "        stream=True,\n",
    "        extra_body={\"enable_thinking\": True},\n",
    "    )\n",
    "    return stream\n",
    "    "
   ]
  },
  {
   "cell_type": "code",
   "execution_count": 20,
   "id": "2754770b",
   "metadata": {},
   "outputs": [],
   "source": [
    "# from openai import OpenAI\n",
    "# import os\n",
    "\n",
    "# api_key = os.getenv(\"DEEPSEEK_API_KEY\")\n",
    "\n",
    "# client = OpenAI(\n",
    "#     model=\"deepseek-reason\",\n",
    "#     base_url=\"https://api.deepseek.com\",\n",
    "#     api_key=api_key)\n"
   ]
  },
  {
   "cell_type": "code",
   "execution_count": 27,
   "id": "82d1cf5d",
   "metadata": {},
   "outputs": [
    {
     "name": "stdout",
     "output_type": "stream",
     "text": [
      "{\"content\":\"\",\"refusal\":null,\"role\":\"assistant\",\"annotations\":null,\"audio\":null,\"function_call\":null,\"tool_calls\":[{\"id\":\"call_9a803c85229947e48c6db3\",\"function\":{\"arguments\":\"{\\\"city\\\": \\\"Hangzhou\\\"}\",\"name\":\"get_weather\"},\"type\":\"function\",\"index\":0}],\"reasoning_content\":\"\"}\n"
     ]
    }
   ],
   "source": [
    "messages = [\n",
    "    {\"role\": \"user\", \"content\": \"How`s the weather in Hangzhou?\"},\n",
    "]\n",
    "res = sned_message(messages)\n",
    "print(res.model_dump_json())"
   ]
  },
  {
   "cell_type": "code",
   "execution_count": 29,
   "id": "54f000ed",
   "metadata": {},
   "outputs": [
    {
     "name": "stdout",
     "output_type": "stream",
     "text": [
      "{\"id\":\"chatcmpl-ccc1ad4a-0112-43cd-92b9-9d3455f48592\",\"choices\":[{\"delta\":{\"content\":null,\"function_call\":null,\"refusal\":null,\"role\":\"assistant\",\"tool_calls\":null,\"reasoning_content\":\"Okay\"},\"finish_reason\":null,\"index\":0,\"logprobs\":null}],\"created\":1759981911,\"model\":\"qwen3-32b\",\"object\":\"chat.completion.chunk\",\"service_tier\":null,\"system_fingerprint\":null,\"usage\":null}\n",
      "{\"id\":\"chatcmpl-ccc1ad4a-0112-43cd-92b9-9d3455f48592\",\"choices\":[{\"delta\":{\"content\":null,\"function_call\":null,\"refusal\":null,\"role\":null,\"tool_calls\":null,\"reasoning_content\":\",\"},\"finish_reason\":null,\"index\":0,\"logprobs\":null}],\"created\":1759981911,\"model\":\"qwen3-32b\",\"object\":\"chat.completion.chunk\",\"service_tier\":null,\"system_fingerprint\":null,\"usage\":null}\n",
      "{\"id\":\"chatcmpl-ccc1ad4a-0112-43cd-92b9-9d3455f48592\",\"choices\":[{\"delta\":{\"content\":null,\"function_call\":null,\"refusal\":null,\"role\":null,\"tool_calls\":null,\"reasoning_content\":\" the\"},\"finish_reason\":null,\"index\":0,\"logprobs\":null}],\"created\":1759981911,\"model\":\"qwen3-32b\",\"object\":\"chat.completion.chunk\",\"service_tier\":null,\"system_fingerprint\":null,\"usage\":null}\n",
      "{\"id\":\"chatcmpl-ccc1ad4a-0112-43cd-92b9-9d3455f48592\",\"choices\":[{\"delta\":{\"content\":null,\"function_call\":null,\"refusal\":null,\"role\":null,\"tool_calls\":null,\"reasoning_content\":\" user is asking about\"},\"finish_reason\":null,\"index\":0,\"logprobs\":null}],\"created\":1759981911,\"model\":\"qwen3-32b\",\"object\":\"chat.completion.chunk\",\"service_tier\":null,\"system_fingerprint\":null,\"usage\":null}\n",
      "{\"id\":\"chatcmpl-ccc1ad4a-0112-43cd-92b9-9d3455f48592\",\"choices\":[{\"delta\":{\"content\":null,\"function_call\":null,\"refusal\":null,\"role\":null,\"tool_calls\":null,\"reasoning_content\":\" the weather in Hang\"},\"finish_reason\":null,\"index\":0,\"logprobs\":null}],\"created\":1759981911,\"model\":\"qwen3-32b\",\"object\":\"chat.completion.chunk\",\"service_tier\":null,\"system_fingerprint\":null,\"usage\":null}\n",
      "{\"id\":\"chatcmpl-ccc1ad4a-0112-43cd-92b9-9d3455f48592\",\"choices\":[{\"delta\":{\"content\":null,\"function_call\":null,\"refusal\":null,\"role\":null,\"tool_calls\":null,\"reasoning_content\":\"zhou. I need\"},\"finish_reason\":null,\"index\":0,\"logprobs\":null}],\"created\":1759981911,\"model\":\"qwen3-32b\",\"object\":\"chat.completion.chunk\",\"service_tier\":null,\"system_fingerprint\":null,\"usage\":null}\n",
      "{\"id\":\"chatcmpl-ccc1ad4a-0112-43cd-92b9-9d3455f48592\",\"choices\":[{\"delta\":{\"content\":null,\"function_call\":null,\"refusal\":null,\"role\":null,\"tool_calls\":null,\"reasoning_content\":\" to use the get\"},\"finish_reason\":null,\"index\":0,\"logprobs\":null}],\"created\":1759981911,\"model\":\"qwen3-32b\",\"object\":\"chat.completion.chunk\",\"service_tier\":null,\"system_fingerprint\":null,\"usage\":null}\n",
      "{\"id\":\"chatcmpl-ccc1ad4a-0112-43cd-92b9-9d3455f48592\",\"choices\":[{\"delta\":{\"content\":null,\"function_call\":null,\"refusal\":null,\"role\":null,\"tool_calls\":null,\"reasoning_content\":\"_weather function for that\"},\"finish_reason\":null,\"index\":0,\"logprobs\":null}],\"created\":1759981911,\"model\":\"qwen3-32b\",\"object\":\"chat.completion.chunk\",\"service_tier\":null,\"system_fingerprint\":null,\"usage\":null}\n",
      "{\"id\":\"chatcmpl-ccc1ad4a-0112-43cd-92b9-9d3455f48592\",\"choices\":[{\"delta\":{\"content\":null,\"function_call\":null,\"refusal\":null,\"role\":null,\"tool_calls\":null,\"reasoning_content\":\". The function requires\"},\"finish_reason\":null,\"index\":0,\"logprobs\":null}],\"created\":1759981911,\"model\":\"qwen3-32b\",\"object\":\"chat.completion.chunk\",\"service_tier\":null,\"system_fingerprint\":null,\"usage\":null}\n",
      "{\"id\":\"chatcmpl-ccc1ad4a-0112-43cd-92b9-9d3455f48592\",\"choices\":[{\"delta\":{\"content\":null,\"function_call\":null,\"refusal\":null,\"role\":null,\"tool_calls\":null,\"reasoning_content\":\" the city parameter,\"},\"finish_reason\":null,\"index\":0,\"logprobs\":null}],\"created\":1759981911,\"model\":\"qwen3-32b\",\"object\":\"chat.completion.chunk\",\"service_tier\":null,\"system_fingerprint\":null,\"usage\":null}\n",
      "{\"id\":\"chatcmpl-ccc1ad4a-0112-43cd-92b9-9d3455f48592\",\"choices\":[{\"delta\":{\"content\":null,\"function_call\":null,\"refusal\":null,\"role\":null,\"tool_calls\":null,\"reasoning_content\":\" which should be a\"},\"finish_reason\":null,\"index\":0,\"logprobs\":null}],\"created\":1759981911,\"model\":\"qwen3-32b\",\"object\":\"chat.completion.chunk\",\"service_tier\":null,\"system_fingerprint\":null,\"usage\":null}\n",
      "{\"id\":\"chatcmpl-ccc1ad4a-0112-43cd-92b9-9d3455f48592\",\"choices\":[{\"delta\":{\"content\":null,\"function_call\":null,\"refusal\":null,\"role\":null,\"tool_calls\":null,\"reasoning_content\":\" string. Since the\"},\"finish_reason\":null,\"index\":0,\"logprobs\":null}],\"created\":1759981911,\"model\":\"qwen3-32b\",\"object\":\"chat.completion.chunk\",\"service_tier\":null,\"system_fingerprint\":null,\"usage\":null}\n",
      "{\"id\":\"chatcmpl-ccc1ad4a-0112-43cd-92b9-9d3455f48592\",\"choices\":[{\"delta\":{\"content\":null,\"function_call\":null,\"refusal\":null,\"role\":null,\"tool_calls\":null,\"reasoning_content\":\" user mentioned Hangzhou\"},\"finish_reason\":null,\"index\":0,\"logprobs\":null}],\"created\":1759981911,\"model\":\"qwen3-32b\",\"object\":\"chat.completion.chunk\",\"service_tier\":null,\"system_fingerprint\":null,\"usage\":null}\n",
      "{\"id\":\"chatcmpl-ccc1ad4a-0112-43cd-92b9-9d3455f48592\",\"choices\":[{\"delta\":{\"content\":null,\"function_call\":null,\"refusal\":null,\"role\":null,\"tool_calls\":null,\"reasoning_content\":\", I'll set\"},\"finish_reason\":null,\"index\":0,\"logprobs\":null}],\"created\":1759981911,\"model\":\"qwen3-32b\",\"object\":\"chat.completion.chunk\",\"service_tier\":null,\"system_fingerprint\":null,\"usage\":null}\n",
      "{\"id\":\"chatcmpl-ccc1ad4a-0112-43cd-92b9-9d3455f48592\",\"choices\":[{\"delta\":{\"content\":null,\"function_call\":null,\"refusal\":null,\"role\":null,\"tool_calls\":null,\"reasoning_content\":\" the city to \\\"\"},\"finish_reason\":null,\"index\":0,\"logprobs\":null}],\"created\":1759981911,\"model\":\"qwen3-32b\",\"object\":\"chat.completion.chunk\",\"service_tier\":null,\"system_fingerprint\":null,\"usage\":null}\n",
      "{\"id\":\"chatcmpl-ccc1ad4a-0112-43cd-92b9-9d3455f48592\",\"choices\":[{\"delta\":{\"content\":null,\"function_call\":null,\"refusal\":null,\"role\":null,\"tool_calls\":null,\"reasoning_content\":\"Hangzhou\\\". I\"},\"finish_reason\":null,\"index\":0,\"logprobs\":null}],\"created\":1759981911,\"model\":\"qwen3-32b\",\"object\":\"chat.completion.chunk\",\"service_tier\":null,\"system_fingerprint\":null,\"usage\":null}\n",
      "{\"id\":\"chatcmpl-ccc1ad4a-0112-43cd-92b9-9d3455f48592\",\"choices\":[{\"delta\":{\"content\":null,\"function_call\":null,\"refusal\":null,\"role\":null,\"tool_calls\":null,\"reasoning_content\":\" should make sure there\"},\"finish_reason\":null,\"index\":0,\"logprobs\":null}],\"created\":1759981911,\"model\":\"qwen3-32b\",\"object\":\"chat.completion.chunk\",\"service_tier\":null,\"system_fingerprint\":null,\"usage\":null}\n",
      "{\"id\":\"chatcmpl-ccc1ad4a-0112-43cd-92b9-9d3455f48592\",\"choices\":[{\"delta\":{\"content\":null,\"function_call\":null,\"refusal\":null,\"role\":null,\"tool_calls\":null,\"reasoning_content\":\" are no typos\"},\"finish_reason\":null,\"index\":0,\"logprobs\":null}],\"created\":1759981911,\"model\":\"qwen3-32b\",\"object\":\"chat.completion.chunk\",\"service_tier\":null,\"system_fingerprint\":null,\"usage\":null}\n",
      "{\"id\":\"chatcmpl-ccc1ad4a-0112-43cd-92b9-9d3455f48592\",\"choices\":[{\"delta\":{\"content\":null,\"function_call\":null,\"refusal\":null,\"role\":null,\"tool_calls\":null,\"reasoning_content\":\". Let me check\"},\"finish_reason\":null,\"index\":0,\"logprobs\":null}],\"created\":1759981911,\"model\":\"qwen3-32b\",\"object\":\"chat.completion.chunk\",\"service_tier\":null,\"system_fingerprint\":null,\"usage\":null}\n",
      "{\"id\":\"chatcmpl-ccc1ad4a-0112-43cd-92b9-9d3455f48592\",\"choices\":[{\"delta\":{\"content\":null,\"function_call\":null,\"refusal\":null,\"role\":null,\"tool_calls\":null,\"reasoning_content\":\" the function signature again\"},\"finish_reason\":null,\"index\":0,\"logprobs\":null}],\"created\":1759981911,\"model\":\"qwen3-32b\",\"object\":\"chat.completion.chunk\",\"service_tier\":null,\"system_fingerprint\":null,\"usage\":null}\n",
      "{\"id\":\"chatcmpl-ccc1ad4a-0112-43cd-92b9-9d3455f48592\",\"choices\":[{\"delta\":{\"content\":null,\"function_call\":null,\"refusal\":null,\"role\":null,\"tool_calls\":null,\"reasoning_content\":\" to confirm. Yep\"},\"finish_reason\":null,\"index\":0,\"logprobs\":null}],\"created\":1759981911,\"model\":\"qwen3-32b\",\"object\":\"chat.completion.chunk\",\"service_tier\":null,\"system_fingerprint\":null,\"usage\":null}\n",
      "{\"id\":\"chatcmpl-ccc1ad4a-0112-43cd-92b9-9d3455f48592\",\"choices\":[{\"delta\":{\"content\":null,\"function_call\":null,\"refusal\":null,\"role\":null,\"tool_calls\":null,\"reasoning_content\":\", the parameters are\"},\"finish_reason\":null,\"index\":0,\"logprobs\":null}],\"created\":1759981911,\"model\":\"qwen3-32b\",\"object\":\"chat.completion.chunk\",\"service_tier\":null,\"system_fingerprint\":null,\"usage\":null}\n",
      "{\"id\":\"chatcmpl-ccc1ad4a-0112-43cd-92b9-9d3455f48592\",\"choices\":[{\"delta\":{\"content\":null,\"function_call\":null,\"refusal\":null,\"role\":null,\"tool_calls\":null,\"reasoning_content\":\" correct. Alright,\"},\"finish_reason\":null,\"index\":0,\"logprobs\":null}],\"created\":1759981911,\"model\":\"qwen3-32b\",\"object\":\"chat.completion.chunk\",\"service_tier\":null,\"system_fingerprint\":null,\"usage\":null}\n",
      "{\"id\":\"chatcmpl-ccc1ad4a-0112-43cd-92b9-9d3455f48592\",\"choices\":[{\"delta\":{\"content\":null,\"function_call\":null,\"refusal\":null,\"role\":null,\"tool_calls\":null,\"reasoning_content\":\" time to call the\"},\"finish_reason\":null,\"index\":0,\"logprobs\":null}],\"created\":1759981911,\"model\":\"qwen3-32b\",\"object\":\"chat.completion.chunk\",\"service_tier\":null,\"system_fingerprint\":null,\"usage\":null}\n",
      "{\"id\":\"chatcmpl-ccc1ad4a-0112-43cd-92b9-9d3455f48592\",\"choices\":[{\"delta\":{\"content\":null,\"function_call\":null,\"refusal\":null,\"role\":null,\"tool_calls\":null,\"reasoning_content\":\" function with the specified\"},\"finish_reason\":null,\"index\":0,\"logprobs\":null}],\"created\":1759981911,\"model\":\"qwen3-32b\",\"object\":\"chat.completion.chunk\",\"service_tier\":null,\"system_fingerprint\":null,\"usage\":null}\n",
      "{\"id\":\"chatcmpl-ccc1ad4a-0112-43cd-92b9-9d3455f48592\",\"choices\":[{\"delta\":{\"content\":null,\"function_call\":null,\"refusal\":null,\"role\":null,\"tool_calls\":null,\"reasoning_content\":\" city.\"},\"finish_reason\":null,\"index\":0,\"logprobs\":null}],\"created\":1759981911,\"model\":\"qwen3-32b\",\"object\":\"chat.completion.chunk\",\"service_tier\":null,\"system_fingerprint\":null,\"usage\":null}\n",
      "{\"id\":\"chatcmpl-ccc1ad4a-0112-43cd-92b9-9d3455f48592\",\"choices\":[{\"delta\":{\"content\":null,\"function_call\":null,\"refusal\":null,\"role\":null,\"tool_calls\":[{\"index\":0,\"id\":\"call_c45757a8da924d54972443\",\"function\":{\"arguments\":\"\",\"name\":\"get_weather\"},\"type\":\"function\"}],\"reasoning_content\":null},\"finish_reason\":null,\"index\":0,\"logprobs\":null}],\"created\":1759981911,\"model\":\"qwen3-32b\",\"object\":\"chat.completion.chunk\",\"service_tier\":null,\"system_fingerprint\":null,\"usage\":null}\n",
      "{\"id\":\"chatcmpl-ccc1ad4a-0112-43cd-92b9-9d3455f48592\",\"choices\":[{\"delta\":{\"content\":null,\"function_call\":null,\"refusal\":null,\"role\":null,\"tool_calls\":[{\"index\":0,\"id\":\"\",\"function\":{\"arguments\":\"{\\\"city\\\": \\\"\",\"name\":null},\"type\":\"function\"}],\"reasoning_content\":null},\"finish_reason\":null,\"index\":0,\"logprobs\":null}],\"created\":1759981911,\"model\":\"qwen3-32b\",\"object\":\"chat.completion.chunk\",\"service_tier\":null,\"system_fingerprint\":null,\"usage\":null}\n",
      "{\"id\":\"chatcmpl-ccc1ad4a-0112-43cd-92b9-9d3455f48592\",\"choices\":[{\"delta\":{\"content\":null,\"function_call\":null,\"refusal\":null,\"role\":null,\"tool_calls\":[{\"index\":0,\"id\":\"\",\"function\":{\"arguments\":\"Hangzhou\\\"}\",\"name\":null},\"type\":\"function\"}],\"reasoning_content\":null},\"finish_reason\":null,\"index\":0,\"logprobs\":null}],\"created\":1759981911,\"model\":\"qwen3-32b\",\"object\":\"chat.completion.chunk\",\"service_tier\":null,\"system_fingerprint\":null,\"usage\":null}\n",
      "{\"id\":\"chatcmpl-ccc1ad4a-0112-43cd-92b9-9d3455f48592\",\"choices\":[{\"delta\":{\"content\":null,\"function_call\":null,\"refusal\":null,\"role\":null,\"tool_calls\":[{\"index\":0,\"id\":\"\",\"function\":{\"arguments\":null,\"name\":null},\"type\":\"function\"}]},\"finish_reason\":null,\"index\":0,\"logprobs\":null}],\"created\":1759981911,\"model\":\"qwen3-32b\",\"object\":\"chat.completion.chunk\",\"service_tier\":null,\"system_fingerprint\":null,\"usage\":null}\n",
      "{\"id\":\"chatcmpl-ccc1ad4a-0112-43cd-92b9-9d3455f48592\",\"choices\":[{\"delta\":{\"content\":null,\"function_call\":null,\"refusal\":null,\"role\":null,\"tool_calls\":null},\"finish_reason\":\"tool_calls\",\"index\":0,\"logprobs\":null}],\"created\":1759981911,\"model\":\"qwen3-32b\",\"object\":\"chat.completion.chunk\",\"service_tier\":null,\"system_fingerprint\":null,\"usage\":null}\n"
     ]
    }
   ],
   "source": [
    "messages = [\n",
    "    {\"role\": \"user\", \"content\": \"How`s the weather in Hangzhou?\"},\n",
    "]\n",
    "stream = send_message_stream(messages)\n",
    "for chunk in stream:\n",
    "    print(chunk.model_dump_json())\n"
   ]
  }
 ],
 "metadata": {
  "kernelspec": {
   "display_name": "py313",
   "language": "python",
   "name": "python3"
  },
  "language_info": {
   "codemirror_mode": {
    "name": "ipython",
    "version": 3
   },
   "file_extension": ".py",
   "mimetype": "text/x-python",
   "name": "python",
   "nbconvert_exporter": "python",
   "pygments_lexer": "ipython3",
   "version": "3.13.5"
  }
 },
 "nbformat": 4,
 "nbformat_minor": 5
}
