{
 "cells": [
  {
   "cell_type": "code",
   "execution_count": 1,
   "metadata": {},
   "outputs": [
    {
     "name": "stdout",
     "output_type": "stream",
     "text": [
      "environ({'ALLUSERSPROFILE': 'C:\\\\ProgramData', 'ANDROID_HOME': 'D:\\\\Android\\\\Sdk', 'APPDATA': 'C:\\\\Users\\\\wpppp\\\\AppData\\\\Roaming', 'ASL.LOG': 'Destination=file', 'CHOCOLATEYINSTALL': 'C:\\\\ProgramData\\\\chocolatey', 'CHOCOLATEYLASTPATHUPDATE': '133673783848130963', 'CLION': 'D:\\\\Program Files\\\\JetBrains\\\\CLion 2021.1.3\\\\bin;', 'COHERE_API_KEY': 'x9uTpIrfQtOypcMYqJgpO2hLZ5M5zWkbD3i8oCiu', 'COMMONPROGRAMFILES': 'C:\\\\Program Files\\\\Common Files', 'COMMONPROGRAMFILES(X86)': 'C:\\\\Program Files (x86)\\\\Common Files', 'COMMONPROGRAMW6432': 'C:\\\\Program Files\\\\Common Files', 'COMPUTERNAME': 'XIAOPANG', 'COMSPEC': 'C:\\\\WINDOWS\\\\system32\\\\cmd.exe', 'CONDA_HOME': 'D:\\\\env\\\\anaconda', 'CUDA_PATH': 'C:\\\\Program Files\\\\NVIDIA GPU Computing Toolkit\\\\CUDA\\\\v12.4', 'CUDA_PATH_V12_4': 'C:\\\\Program Files\\\\NVIDIA GPU Computing Toolkit\\\\CUDA\\\\v12.4', 'DASHSCOPE_API_KEY': 'sk-035ce3b8fbdd43f8b9bc4332a32e55a1', 'DATAGRIP': 'D:\\\\Program Files\\\\JetBrains\\\\DataGrip 2021.1.3\\\\bin;', 'DATASPELL': 'D:\\\\Program Files\\\\JetBrains\\\\DataSpell 2021.3\\\\bin;', 'DRIVERDATA': 'C:\\\\Windows\\\\System32\\\\Drivers\\\\DriverData', 'EFC_12396_1592913036': '1', 'GRADLE8_HOME': 'C:\\\\dev\\\\gradle-8.10.1', 'GRAPHVIZ_HOME': 'C:\\\\softwares\\\\Graphviz-12.0.0-win64', 'HOMEDRIVE': 'C:', 'HOMEPATH': '\\\\Users\\\\wpppp', 'IDEA_INITIAL_DIRECTORY': 'C:\\\\WINDOWS\\\\system32', 'INTELLIJ IDEA': 'D:\\\\Program Files\\\\JetBrains\\\\IntelliJ IDEA 2021.1.3\\\\bin;', 'JAVA_HOME': 'C:\\\\dev\\\\java\\\\jdk-21.0.7+6', 'JAVA_HOME_8': 'C:\\\\dev\\\\java\\\\jdk1.8.0_211', 'LANG': 'en_US.UTF-8', 'LANGSMITH_API_KEY': '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', 'LANGSMITH_PROJECT': 'aidoc', 'LANGSMITH_TRACING': 'true', 'LANGUAGE': '', 'LC_ALL': 'en_US.UTF-8', 'LOCALAPPDATA': 'C:\\\\Users\\\\wpppp\\\\AppData\\\\Local', 'LOGONSERVER': '\\\\\\\\XIAOPANG', 'MAVEN_HOME': 'C:\\\\dev\\\\apache-maven-3.8.4', 'NODE_JS_HOME': '1', 'NUMBER_OF_PROCESSORS': '20', 'NVM_HOME': 'C:\\\\Users\\\\wpppp\\\\AppData\\\\Roaming\\\\nvm', 'NVM_SYMLINK': 'C:\\\\Program Files\\\\nodejs', 'ONEDRIVE': 'C:\\\\Users\\\\wpppp\\\\OneDrive', 'ONLINESERVICES': 'Online Services', 'OPENSSL_ROOT_DIR': 'C:\\\\dev\\\\OpenSSL-Win64', 'OS': 'Windows_NT', 'PATH': 'D:\\\\repo\\\\aidoc-task\\\\.venv\\\\Scripts;D:\\\\Program Files\\\\PlasticSCM5\\\\server;D:\\\\Program Files\\\\PlasticSCM5\\\\client;C:\\\\Program Files\\\\NVIDIA GPU Computing Toolkit\\\\CUDA\\\\v12.4\\\\bin;C:\\\\Program Files\\\\NVIDIA GPU Computing Toolkit\\\\CUDA\\\\v12.4\\\\libnvvp;D:\\\\softwares\\\\vmware17\\\\bin\\\\;C:\\\\windows\\\\system32;C:\\\\windows;C:\\\\windows\\\\System32\\\\Wbem;C:\\\\windows\\\\System32\\\\WindowsPowerShell\\\\v1.0\\\\;C:\\\\windows\\\\System32\\\\OpenSSH\\\\;C:\\\\Program Files (x86)\\\\NVIDIA Corporation\\\\PhysX\\\\Common;C:\\\\Program Files\\\\NVIDIA Corporation\\\\NVIDIA NvDLISR;C:\\\\Program Files (x86)\\\\NetSarang\\\\Xshell 7\\\\;C:\\\\Program Files (x86)\\\\NetSarang\\\\Xftp 7\\\\;C:\\\\dev\\\\apache-maven-3.8.4\\\\bin;C:\\\\Program Files\\\\Docker\\\\Docker\\\\resources\\\\bin;C:\\\\ProgramData\\\\DockerDesktop\\\\version-bin;C:\\\\Program Files\\\\Git\\\\cmd;C:\\\\Program Files\\\\TortoiseGit\\\\bin;C:\\\\Program Files\\\\dotnet\\\\;C:\\\\Program Files\\\\Kubernetes\\\\Minikube;C:\\\\minikube;C:\\\\Program Files\\\\Microsoft Visual Studio\\\\2022\\\\Community\\\\Common7\\\\IDE\\\\CommonExtensions\\\\Microsoft\\\\CMake\\\\CMake\\\\bin;C:\\\\dev\\\\OpenSSL-Win64\\\\bin;C:\\\\Program Files (x86)\\\\Microsoft Visual Studio\\\\2017\\\\BuildTools\\\\Common7\\\\IDE\\\\CommonExtensions\\\\Microsoft\\\\CMake\\\\CMake\\\\bin;C:\\\\WINDOWS\\\\system32;C:\\\\WINDOWS;C:\\\\WINDOWS\\\\System32\\\\Wbem;C:\\\\WINDOWS\\\\System32\\\\WindowsPowerShell\\\\v1.0\\\\;C:\\\\WINDOWS\\\\System32\\\\OpenSSH\\\\;D:\\\\env\\\\anaconda\\\\condabin;C:\\\\Program Files\\\\NVIDIA Corporation\\\\Nsight Compute 2024.1.0\\\\;C:\\\\Program Files\\\\Graphviz\\\\bin;C:\\\\ProgramData\\\\chocolatey\\\\bin;C:\\\\Users\\\\wpppp\\\\AppData\\\\Roaming\\\\nvm;C:\\\\Program Files\\\\nodejs;C:\\\\dev\\\\gradle-8.10.1\\\\bin;C:\\\\dev\\\\JEnv-for-Windows;D:\\\\Android\\\\Sdk\\\\platform-tools;C:\\\\dev\\\\sqlite;C:\\\\Users\\\\wpppp\\\\AppData\\\\Local\\\\Microsoft\\\\WindowsApps;C:\\\\Users\\\\wpppp\\\\AppData\\\\Local\\\\Programs\\\\Microsoft VS Code\\\\bin;C:\\\\Users\\\\wpppp\\\\AppData\\\\Local\\\\JetBrains\\\\Toolbox\\\\scripts;C:\\\\Users\\\\wpppp\\\\AppData\\\\Local\\\\Microsoft\\\\WindowsApps;D:\\\\Program Files\\\\JetBrains\\\\IntelliJ IDEA 2021.1.3\\\\bin;;D:\\\\Program Files\\\\JetBrains\\\\DataGrip 2021.1.3\\\\bin;;D:\\\\Program Files\\\\JetBrains\\\\PyCharm 2021.1.3\\\\bin;;D:\\\\Program Files\\\\JetBrains\\\\DataSpell 2021.3\\\\bin;;D:\\\\Program Files\\\\JetBrains\\\\CLion 2021.1.3\\\\bin;;C:\\\\Users\\\\wpppp\\\\AppData\\\\Roaming\\\\npm;C:\\\\Users\\\\wpppp\\\\AppData\\\\Roaming\\\\nvm;C:\\\\Program Files\\\\nodejs;C:\\\\dev\\\\java\\\\jdk-21.0.7+6\\\\bin;C:\\\\Users\\\\wpppp\\\\.dotnet\\\\tools;C:\\\\Users\\\\wpppp\\\\AppData\\\\Local\\\\Programs\\\\Swift\\\\Runtimes\\\\6.1.0\\\\usr\\\\bin\\\\;C:\\\\Users\\\\wpppp\\\\AppData\\\\Local\\\\Programs\\\\Swift\\\\Toolchains\\\\6.1.0+Asserts\\\\usr\\\\bin\\\\;D:\\\\softwares\\\\Windsurf\\\\bin', 'PATHEXT': '.COM;.EXE;.BAT;.CMD;.VBS;.VBE;.JS;.JSE;.WSF;.WSH;.MSC', 'PLATFORMCODE': 'M7', 'PROCESSOR_ARCHITECTURE': 'AMD64', 'PROCESSOR_IDENTIFIER': 'Intel64 Family 6 Model 154 Stepping 3, GenuineIntel', 'PROCESSOR_LEVEL': '6', 'PROCESSOR_REVISION': '9a03', 'PROGRAMDATA': 'C:\\\\ProgramData', 'PROGRAMFILES': 'C:\\\\Program Files', 'PROGRAMFILES(X86)': 'C:\\\\Program Files (x86)', 'PROGRAMW6432': 'C:\\\\Program Files', 'PROMPT': '(.venv) $P$G', 'PSMODULEPATH': 'C:\\\\Program Files\\\\WindowsPowerShell\\\\Modules;C:\\\\WINDOWS\\\\system32\\\\WindowsPowerShell\\\\v1.0\\\\Modules', 'PUBLIC': 'C:\\\\Users\\\\Public', 'PYCHARM': 'D:\\\\Program Files\\\\JetBrains\\\\PyCharm 2021.1.3\\\\bin;', 'PYTHONPATH': 'D:\\\\repo\\\\aidoc-task', 'REGIONCODE': 'APJ', 'SDKROOT': 'C:\\\\Users\\\\wpppp\\\\AppData\\\\Local\\\\Programs\\\\Swift\\\\Platforms\\\\6.1.0\\\\Windows.platform\\\\Developer\\\\SDKs\\\\Windows.sdk\\\\', 'SESSIONNAME': 'Console', 'SYSTEMDRIVE': 'C:', 'SYSTEMROOT': 'C:\\\\WINDOWS', 'TEMP': 'C:\\\\Users\\\\wpppp\\\\AppData\\\\Local\\\\Temp', 'TMP': 'C:\\\\Users\\\\wpppp\\\\AppData\\\\Local\\\\Temp', 'USERDOMAIN': 'XIAOPANG', 'USERDOMAIN_ROAMINGPROFILE': 'XIAOPANG', 'USERNAME': 'wpppp', 'USERPROFILE': 'C:\\\\Users\\\\wpppp', 'VIRTUAL_ENV': 'D:\\\\repo\\\\aidoc-task\\\\.venv', 'VS_CMAKE_HOME': 'C:\\\\Program Files (x86)\\\\Microsoft Visual Studio\\\\2017\\\\BuildTools\\\\Common7\\\\IDE\\\\CommonExtensions\\\\Microsoft\\\\CMake\\\\CMake', 'WGET_HOME': 'D:\\\\env\\\\wget', 'WINDIR': 'C:\\\\WINDOWS', 'ZES_ENABLE_SYSMAN': '1', '_OLD_VIRTUAL_PATH': 'D:\\\\Program Files\\\\PlasticSCM5\\\\server;D:\\\\Program Files\\\\PlasticSCM5\\\\client;C:\\\\Program Files\\\\NVIDIA GPU Computing Toolkit\\\\CUDA\\\\v12.4\\\\bin;C:\\\\Program Files\\\\NVIDIA GPU Computing Toolkit\\\\CUDA\\\\v12.4\\\\libnvvp;D:\\\\softwares\\\\vmware17\\\\bin\\\\;C:\\\\windows\\\\system32;C:\\\\windows;C:\\\\windows\\\\System32\\\\Wbem;C:\\\\windows\\\\System32\\\\WindowsPowerShell\\\\v1.0\\\\;C:\\\\windows\\\\System32\\\\OpenSSH\\\\;C:\\\\Program Files (x86)\\\\NVIDIA Corporation\\\\PhysX\\\\Common;C:\\\\Program Files\\\\NVIDIA Corporation\\\\NVIDIA NvDLISR;C:\\\\Program Files (x86)\\\\NetSarang\\\\Xshell 7\\\\;C:\\\\Program Files (x86)\\\\NetSarang\\\\Xftp 7\\\\;C:\\\\dev\\\\apache-maven-3.8.4\\\\bin;C:\\\\Program Files\\\\Docker\\\\Docker\\\\resources\\\\bin;C:\\\\ProgramData\\\\DockerDesktop\\\\version-bin;C:\\\\Program Files\\\\Git\\\\cmd;C:\\\\Program Files\\\\TortoiseGit\\\\bin;C:\\\\Program Files\\\\dotnet\\\\;C:\\\\Program Files\\\\Kubernetes\\\\Minikube;C:\\\\minikube;C:\\\\Program Files\\\\Microsoft Visual Studio\\\\2022\\\\Community\\\\Common7\\\\IDE\\\\CommonExtensions\\\\Microsoft\\\\CMake\\\\CMake\\\\bin;C:\\\\dev\\\\OpenSSL-Win64\\\\bin;C:\\\\Program Files (x86)\\\\Microsoft Visual Studio\\\\2017\\\\BuildTools\\\\Common7\\\\IDE\\\\CommonExtensions\\\\Microsoft\\\\CMake\\\\CMake\\\\bin;C:\\\\WINDOWS\\\\system32;C:\\\\WINDOWS;C:\\\\WINDOWS\\\\System32\\\\Wbem;C:\\\\WINDOWS\\\\System32\\\\WindowsPowerShell\\\\v1.0\\\\;C:\\\\WINDOWS\\\\System32\\\\OpenSSH\\\\;D:\\\\env\\\\anaconda\\\\condabin;C:\\\\Program Files\\\\NVIDIA Corporation\\\\Nsight Compute 2024.1.0\\\\;C:\\\\Program Files\\\\Graphviz\\\\bin;C:\\\\ProgramData\\\\chocolatey\\\\bin;C:\\\\Users\\\\wpppp\\\\AppData\\\\Roaming\\\\nvm;C:\\\\Program Files\\\\nodejs;C:\\\\dev\\\\gradle-8.10.1\\\\bin;C:\\\\dev\\\\JEnv-for-Windows;D:\\\\Android\\\\Sdk\\\\platform-tools;C:\\\\dev\\\\sqlite;C:\\\\Users\\\\wpppp\\\\AppData\\\\Local\\\\Microsoft\\\\WindowsApps;C:\\\\Users\\\\wpppp\\\\AppData\\\\Local\\\\Programs\\\\Microsoft VS Code\\\\bin;C:\\\\Users\\\\wpppp\\\\AppData\\\\Local\\\\JetBrains\\\\Toolbox\\\\scripts;C:\\\\Users\\\\wpppp\\\\AppData\\\\Local\\\\Microsoft\\\\WindowsApps;D:\\\\Program Files\\\\JetBrains\\\\IntelliJ IDEA 2021.1.3\\\\bin;;D:\\\\Program Files\\\\JetBrains\\\\DataGrip 2021.1.3\\\\bin;;D:\\\\Program Files\\\\JetBrains\\\\PyCharm 2021.1.3\\\\bin;;D:\\\\Program Files\\\\JetBrains\\\\DataSpell 2021.3\\\\bin;;D:\\\\Program Files\\\\JetBrains\\\\CLion 2021.1.3\\\\bin;;C:\\\\Users\\\\wpppp\\\\AppData\\\\Roaming\\\\npm;C:\\\\Users\\\\wpppp\\\\AppData\\\\Roaming\\\\nvm;C:\\\\Program Files\\\\nodejs;C:\\\\dev\\\\java\\\\jdk-21.0.7+6\\\\bin;C:\\\\Users\\\\wpppp\\\\.dotnet\\\\tools;C:\\\\Users\\\\wpppp\\\\AppData\\\\Local\\\\Programs\\\\Swift\\\\Runtimes\\\\6.1.0\\\\usr\\\\bin\\\\;C:\\\\Users\\\\wpppp\\\\AppData\\\\Local\\\\Programs\\\\Swift\\\\Toolchains\\\\6.1.0+Asserts\\\\usr\\\\bin\\\\;D:\\\\softwares\\\\Windsurf\\\\bin', '_OLD_VIRTUAL_PROMPT': '$P$G', 'JPY_SESSION_NAME': 'D:\\\\repo\\\\aidoc-task\\\\notebook\\\\chat_demo.ipynb', 'JPY_INTERRUPT_EVENT': '2864', 'IPY_INTERRUPT_EVENT': '2864', 'JPY_PARENT_PID': '2888', 'PYDEVD_USE_FRAME_EVAL': 'NO', 'TERM': 'xterm-color', 'CLICOLOR': '1', 'FORCE_COLOR': '1', 'CLICOLOR_FORCE': '1', 'PAGER': 'cat', 'GIT_PAGER': 'cat', 'MPLBACKEND': 'module://matplotlib_inline.backend_inline'})\n"
     ]
    }
   ],
   "source": [
    "import getpass\n",
    "import os\n",
    "\n",
    "try:\n",
    "    from dotenv import load_dotenv\n",
    "\n",
    "    load_dotenv()\n",
    "except ImportError:\n",
    "    pass\n",
    "\n",
    "os.environ[\"LANGSMITH_TRACING\"] = \"true\""
   ]
  },
  {
   "cell_type": "code",
   "execution_count": 2,
   "metadata": {
    "collapsed": false,
    "jupyter": {
     "outputs_hidden": false
    },
    "pycharm": {
     "name": "#%%\n"
    }
   },
   "outputs": [
    {
     "name": "stdout",
     "output_type": "stream",
     "text": [
      "ciao!\n"
     ]
    }
   ],
   "source": [
    "if \"LANGSMITH_API_KEY\" not in os.environ:\n",
    "    os.environ[\"LANGSMITH_API_KEY\"] = getpass.getpass(\n",
    "        prompt=\"Enter your LangSmith API key (optional): \"\n",
    "    )\n",
    "if \"LANGSMITH_PROJECT\" not in os.environ:\n",
    "    os.environ[\"LANGSMITH_PROJECT\"] = getpass.getpass(\n",
    "        prompt='Enter your LangSmith Project Name (default = \"default\"): '\n",
    "    )\n",
    "    if not os.environ.get(\"LANGSMITH_PROJECT\"):\n",
    "        os.environ[\"LANGSMITH_PROJECT\"] = \"default\"\n",
    "\n",
    "from langchain_community.llms.tongyi import Tongyi\n",
    "\n",
    "model = Tongyi()\n",
    "\n",
    "from langchain_core.messages import HumanMessage, SystemMessage\n",
    "\n",
    "messages = [\n",
    "    SystemMessage(\"Translate the following from English into Italian\"),\n",
    "    HumanMessage(\"hi!\"),\n",
    "]\n",
    "\n",
    "result = model.invoke(messages)\n",
    "\n",
    "print(result)"
   ]
  },
  {
   "cell_type": "code",
   "execution_count": 3,
   "metadata": {
    "collapsed": false,
    "jupyter": {
     "outputs_hidden": false
    },
    "pycharm": {
     "name": "#%%\n"
    }
   },
   "outputs": [
    {
     "name": "stdout",
     "output_type": "stream",
     "text": [
      "c|iao|!||"
     ]
    }
   ],
   "source": [
    "model.invoke(\"Hello\")\n",
    "model.invoke([{\"role\": \"user\", \"content\": \"Hello\"}])\n",
    "model.invoke([HumanMessage(\"Hello\")])\n",
    "\n",
    "for token in model.stream(messages):\n",
    "    print(token, end=\"|\")"
   ]
  },
  {
   "cell_type": "code",
   "execution_count": 4,
   "metadata": {},
   "outputs": [],
   "source": [
    "from langchain_core.prompts import ChatPromptTemplate\n",
    "\n",
    "system_template = \"Translate the following from English into {language}\"\n",
    "\n",
    "prompt_template = ChatPromptTemplate.from_messages(\n",
    "    [(\"system\", system_template), (\"user\", \"{text}\")]\n",
    ")"
   ]
  },
  {
   "cell_type": "code",
   "execution_count": 5,
   "metadata": {},
   "outputs": [
    {
     "data": {
      "text/plain": [
       "ChatPromptValue(messages=[SystemMessage(content='Translate the following from English into Italian', additional_kwargs={}, response_metadata={}), HumanMessage(content='hi!', additional_kwargs={}, response_metadata={})])"
      ]
     },
     "execution_count": 5,
     "metadata": {},
     "output_type": "execute_result"
    }
   ],
   "source": [
    "prompt = prompt_template.invoke({\"language\": \"Italian\", \"text\": \"hi!\"})\n",
    "\n",
    "prompt"
   ]
  },
  {
   "cell_type": "code",
   "execution_count": 6,
   "metadata": {},
   "outputs": [
    {
     "data": {
      "text/plain": [
       "[SystemMessage(content='Translate the following from English into Italian', additional_kwargs={}, response_metadata={}),\n",
       " HumanMessage(content='hi!', additional_kwargs={}, response_metadata={})]"
      ]
     },
     "execution_count": 6,
     "metadata": {},
     "output_type": "execute_result"
    }
   ],
   "source": [
    "prompt.to_messages()"
   ]
  },
  {
   "cell_type": "code",
   "execution_count": 8,
   "metadata": {},
   "outputs": [
    {
     "name": "stdout",
     "output_type": "stream",
     "text": [
      "ciao!\n"
     ]
    }
   ],
   "source": [
    "response = model.invoke(prompt)\n",
    "print(response)"
   ]
  },
  {
   "cell_type": "code",
   "execution_count": null,
   "metadata": {},
   "outputs": [],
   "source": []
  }
 ],
 "metadata": {
  "kernelspec": {
   "display_name": "Python 3 (ipykernel)",
   "language": "python",
   "name": "python3"
  },
  "language_info": {
   "codemirror_mode": {
    "name": "ipython",
    "version": 3
   },
   "file_extension": ".py",
   "mimetype": "text/x-python",
   "name": "python",
   "nbconvert_exporter": "python",
   "pygments_lexer": "ipython3",
   "version": "3.9.19"
  }
 },
 "nbformat": 4,
 "nbformat_minor": 4
}