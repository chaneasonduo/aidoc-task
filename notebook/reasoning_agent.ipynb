{
 "cells": [
  {
   "cell_type": "code",
   "execution_count": 2,
   "id": "b509be50",
   "metadata": {},
   "outputs": [],
   "source": [
    "from typing import Annotated\n",
    "\n",
    "from typing_extensions import TypedDict\n",
    "\n",
    "from langgraph.graph import StateGraph, START, END\n",
    "from langgraph.graph.message import add_messages\n",
    "\n",
    "\n",
    "class State(TypedDict):\n",
    "    # Messages have the type \"list\". The `add_messages` function\n",
    "    # in the annotation defines how this state key should be updated\n",
    "    # (in this case, it appends messages to the list, rather than overwriting them)\n",
    "    messages: Annotated[list, add_messages]\n",
    "\n",
    "\n",
    "graph_builder = StateGraph(State)"
   ]
  },
  {
   "cell_type": "code",
   "execution_count": 3,
   "id": "2884f9bc",
   "metadata": {},
   "outputs": [],
   "source": [
    "from langchain_tavily import TavilySearch\n",
    "\n",
    "tool = TavilySearch(max_results=2)\n",
    "tools = [tool]"
   ]
  },
  {
   "cell_type": "code",
   "execution_count": 4,
   "id": "650e31aa",
   "metadata": {},
   "outputs": [],
   "source": [
    "import os\n",
    "from langchain.chat_models import init_chat_model\n",
    "from langchain_deepseek import ChatDeepSeek\n",
    "\n",
    "os.environ[\"OPENAI_API_KEY\"] = \"sk-...\"\n",
    "\n",
    "llm = ChatDeepSeek(model =\"deepseek-reasoner\")"
   ]
  },
  {
   "cell_type": "code",
   "execution_count": 5,
   "id": "3122b310",
   "metadata": {},
   "outputs": [],
   "source": [
    "# 时间工具\n",
    "from langchain.tools import tool\n",
    "from datetime import datetime\n",
    "\n",
    "@tool(\"get_now_time\", description=\"获取当前时间\")\n",
    "def get_now_time() ->str :\n",
    "    return datetime.now().strftime(\"%Y-%m-%d %H:%M:%S\")"
   ]
  },
  {
   "cell_type": "code",
   "execution_count": 6,
   "id": "4e60eafb",
   "metadata": {},
   "outputs": [],
   "source": [
    "from langchain_tavily import TavilySearch\n",
    "\n",
    "tool = TavilySearch(max_results=2)\n",
    "tools = [tool, get_now_time]"
   ]
  },
  {
   "cell_type": "code",
   "execution_count": 7,
   "id": "3b77c066",
   "metadata": {},
   "outputs": [
    {
     "data": {
      "text/plain": [
       "<langgraph.graph.state.StateGraph at 0x10db06fd0>"
      ]
     },
     "execution_count": 7,
     "metadata": {},
     "output_type": "execute_result"
    }
   ],
   "source": [
    "from typing import Annotated\n",
    "\n",
    "from typing_extensions import TypedDict\n",
    "\n",
    "from langgraph.graph import StateGraph, START, END\n",
    "from langgraph.graph.message import add_messages\n",
    "\n",
    "class State(TypedDict):\n",
    "    messages: Annotated[list, add_messages]\n",
    "\n",
    "graph_builder = StateGraph(State)\n",
    "\n",
    "# Modification: tell the LLM which tools it can call\n",
    "llm_with_tools = llm.bind_tools(tools)\n",
    "\n",
    "def chatbot(state: State):\n",
    "    return {\"messages\": [llm_with_tools.invoke(state[\"messages\"])]}\n",
    "\n",
    "graph_builder.add_node(\"chatbot\", chatbot)"
   ]
  },
  {
   "cell_type": "code",
   "execution_count": 8,
   "id": "05d3e1e3",
   "metadata": {},
   "outputs": [
    {
     "data": {
      "text/plain": [
       "<langgraph.graph.state.StateGraph at 0x10db06fd0>"
      ]
     },
     "execution_count": 8,
     "metadata": {},
     "output_type": "execute_result"
    }
   ],
   "source": [
    "import json\n",
    "\n",
    "from langchain_core.messages import ToolMessage\n",
    "\n",
    "\n",
    "class BasicToolNode:\n",
    "    \"\"\"A node that runs the tools requested in the last AIMessage.\"\"\"\n",
    "\n",
    "    def __init__(self, tools: list) -> None:\n",
    "        self.tools_by_name = {tool.name: tool for tool in tools}\n",
    "\n",
    "    def __call__(self, inputs: dict):\n",
    "        if messages := inputs.get(\"messages\", []):\n",
    "            message = messages[-1]\n",
    "        else:\n",
    "            raise ValueError(\"No message found in input\")\n",
    "        outputs = []\n",
    "        for tool_call in message.tool_calls:\n",
    "            tool_result = self.tools_by_name[tool_call[\"name\"]].invoke(\n",
    "                tool_call[\"args\"]\n",
    "            )\n",
    "            outputs.append(\n",
    "                ToolMessage(\n",
    "                    content=json.dumps(tool_result),\n",
    "                    name=tool_call[\"name\"],\n",
    "                    tool_call_id=tool_call[\"id\"],\n",
    "                )\n",
    "            )\n",
    "        return {\"messages\": outputs}\n",
    "\n",
    "\n",
    "tool_node = BasicToolNode(tools=tools)\n",
    "graph_builder.add_node(\"tools\", tool_node)"
   ]
  },
  {
   "cell_type": "code",
   "execution_count": 9,
   "id": "be80a415",
   "metadata": {},
   "outputs": [],
   "source": [
    "def route_tools(\n",
    "    state: State,\n",
    "):\n",
    "    \"\"\"\n",
    "    Use in the conditional_edge to route to the ToolNode if the last message\n",
    "    has tool calls. Otherwise, route to the end.\n",
    "    \"\"\"\n",
    "    if isinstance(state, list):\n",
    "        ai_message = state[-1]\n",
    "    elif messages := state.get(\"messages\", []):\n",
    "        ai_message = messages[-1]\n",
    "    else:\n",
    "        raise ValueError(f\"No messages found in input state to tool_edge: {state}\")\n",
    "    if hasattr(ai_message, \"tool_calls\") and len(ai_message.tool_calls) > 0:\n",
    "        return \"tools\"\n",
    "    return END\n",
    "\n",
    "\n",
    "# The `tools_condition` function returns \"tools\" if the chatbot asks to use a tool, and \"END\" if\n",
    "# it is fine directly responding. This conditional routing defines the main agent loop.\n",
    "graph_builder.add_conditional_edges(\n",
    "    \"chatbot\",\n",
    "    route_tools,\n",
    "    # The following dictionary lets you tell the graph to interpret the condition's outputs as a specific node\n",
    "    # It defaults to the identity function, but if you\n",
    "    # want to use a node named something else apart from \"tools\",\n",
    "    # You can update the value of the dictionary to something else\n",
    "    # e.g., \"tools\": \"my_tools\"\n",
    "    {\"tools\": \"tools\", END: END},\n",
    ")\n",
    "# Any time a tool is called, we return to the chatbot to decide the next step\n",
    "graph_builder.add_edge(\"tools\", \"chatbot\")\n",
    "graph_builder.add_edge(START, \"chatbot\")\n",
    "graph = graph_builder.compile()"
   ]
  },
  {
   "cell_type": "code",
   "execution_count": 10,
   "id": "1ae92676",
   "metadata": {},
   "outputs": [
    {
     "data": {
      "image/png": "[encoded data removed]",
      "text/plain": [
       "<IPython.core.display.Image object>"
      ]
     },
     "metadata": {},
     "output_type": "display_data"
    }
   ],
   "source": [
    "from IPython.display import Image, display\n",
    "\n",
    "try:\n",
    "    display(Image(graph.get_graph().draw_mermaid_png()))\n",
    "except Exception:\n",
    "    # This requires some extra dependencies and is optional\n",
    "    pass"
   ]
  },
  {
   "cell_type": "code",
   "execution_count": 17,
   "id": "8b08fddc",
   "metadata": {},
   "outputs": [
    {
     "name": "stdout",
     "output_type": "stream",
     "text": [
      "content='' additional_kwargs={} response_metadata={} id='run--2737ac09-8638-4695-b12f-c6aec277f25b'\n",
      "content='' additional_kwargs={'tool_calls': [{'index': 0, 'id': 'call_00_OXU1E8CveyesloDK2yUFWkK2', 'function': {'arguments': '', 'name': 'get_now_time'}, 'type': 'function'}]} response_metadata={} id='run--2737ac09-8638-4695-b12f-c6aec277f25b' tool_calls=[{'name': 'get_now_time', 'args': {}, 'id': 'call_00_OXU1E8CveyesloDK2yUFWkK2', 'type': 'tool_call'}] tool_call_chunks=[{'name': 'get_now_time', 'args': '', 'id': 'call_00_OXU1E8CveyesloDK2yUFWkK2', 'index': 0, 'type': 'tool_call_chunk'}]\n",
      "content='' additional_kwargs={'tool_calls': [{'index': 0, 'id': None, 'function': {'arguments': '{}', 'name': None}, 'type': None}]} response_metadata={} id='run--2737ac09-8638-4695-b12f-c6aec277f25b' tool_calls=[{'name': '', 'args': {}, 'id': None, 'type': 'tool_call'}] tool_call_chunks=[{'name': None, 'args': '{}', 'id': None, 'index': 0, 'type': 'tool_call_chunk'}]\n",
      "content='' additional_kwargs={} response_metadata={'finish_reason': 'tool_calls', 'model_name': 'deepseek-chat', 'system_fingerprint': 'fp_f253fc19d1_prod0820_fp8_kvcache'} id='run--2737ac09-8638-4695-b12f-c6aec277f25b' usage_metadata={'input_tokens': 1827, 'output_tokens': 9, 'total_tokens': 1836, 'input_token_details': {'cache_read': 1792}, 'output_token_details': {}}\n",
      "content='\"2025-09-23 20:43:41\"' name='get_now_time' id='1f4c08a3-172d-4221-9243-171ed7f99310' tool_call_id='call_00_OXU1E8CveyesloDK2yUFWkK2'\n",
      "content='' additional_kwargs={} response_metadata={} id='run--31c37c55-66dd-4799-8f07-673a25e009de'\n",
      "content='现在是' additional_kwargs={} response_metadata={} id='run--31c37c55-66dd-4799-8f07-673a25e009de'\n",
      "content=' **' additional_kwargs={} response_metadata={} id='run--31c37c55-66dd-4799-8f07-673a25e009de'\n",
      "content='202' additional_kwargs={} response_metadata={} id='run--31c37c55-66dd-4799-8f07-673a25e009de'\n",
      "content='5' additional_kwargs={} response_metadata={} id='run--31c37c55-66dd-4799-8f07-673a25e009de'\n",
      "content='年' additional_kwargs={} response_metadata={} id='run--31c37c55-66dd-4799-8f07-673a25e009de'\n",
      "content='9' additional_kwargs={} response_metadata={} id='run--31c37c55-66dd-4799-8f07-673a25e009de'\n",
      "content='月' additional_kwargs={} response_metadata={} id='run--31c37c55-66dd-4799-8f07-673a25e009de'\n",
      "content='23' additional_kwargs={} response_metadata={} id='run--31c37c55-66dd-4799-8f07-673a25e009de'\n",
      "content='日' additional_kwargs={} response_metadata={} id='run--31c37c55-66dd-4799-8f07-673a25e009de'\n",
      "content=' ' additional_kwargs={} response_metadata={} id='run--31c37c55-66dd-4799-8f07-673a25e009de'\n",
      "content='20' additional_kwargs={} response_metadata={} id='run--31c37c55-66dd-4799-8f07-673a25e009de'\n",
      "content=':' additional_kwargs={} response_metadata={} id='run--31c37c55-66dd-4799-8f07-673a25e009de'\n",
      "content='43' additional_kwargs={} response_metadata={} id='run--31c37c55-66dd-4799-8f07-673a25e009de'\n",
      "content=':' additional_kwargs={} response_metadata={} id='run--31c37c55-66dd-4799-8f07-673a25e009de'\n",
      "content='41' additional_kwargs={} response_metadata={} id='run--31c37c55-66dd-4799-8f07-673a25e009de'\n",
      "content='**' additional_kwargs={} response_metadata={} id='run--31c37c55-66dd-4799-8f07-673a25e009de'\n",
      "content='。' additional_kwargs={} response_metadata={} id='run--31c37c55-66dd-4799-8f07-673a25e009de'\n",
      "content='' additional_kwargs={} response_metadata={'finish_reason': 'stop', 'model_name': 'deepseek-chat', 'system_fingerprint': 'fp_f253fc19d1_prod0820_fp8_kvcache'} id='run--31c37c55-66dd-4799-8f07-673a25e009de' usage_metadata={'input_tokens': 1853, 'output_tokens': 17, 'total_tokens': 1870, 'input_token_details': {'cache_read': 1792}, 'output_token_details': {}}\n"
     ]
    }
   ],
   "source": [
    "def stream_graph_updates(user_input: str):\n",
    "    for event in graph.stream({\"messages\": [{\"role\": \"user\", \"content\": user_input}]}):\n",
    "        for value in event.values():\n",
    "            print(\"Assistant:\", value[\"messages\"][-1].content)\n",
    "\n",
    "def stream_graph_2(user_input: str):\n",
    "    for chunk, meta in graph.stream({\"messages\": [{\"role\": \"user\", \"content\": user_input}]}, stream_mode=\"messages\"):\n",
    "        print(chunk)\n",
    "\n",
    "\n",
    "user_input = \"帮我查询现在的时间\"\n",
    "stream_graph_2(user_input)\n"
   ]
  }
 ],
 "metadata": {
  "kernelspec": {
   "display_name": "py313",
   "language": "python",
   "name": "python3"
  },
  "language_info": {
   "codemirror_mode": {
    "name": "ipython",
    "version": 3
   },
   "file_extension": ".py",
   "mimetype": "text/x-python",
   "name": "python",
   "nbconvert_exporter": "python",
   "pygments_lexer": "ipython3",
   "version": "3.13.5"
  }
 },
 "nbformat": 4,
 "nbformat_minor": 5
}
