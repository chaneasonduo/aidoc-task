{
 "cells": [
  {
   "cell_type": "code",
   "execution_count": null,
   "id": "52841361",
   "metadata": {},
   "outputs": [],
   "source": [
    "#%pip install -U langchain-tavily\n",
    "# https://langchain-ai.github.io/langgraph/tutorials/get-started/2-add-tools/#5-create-a-function-to-run-the-tools"
   ]
  },
  {
   "cell_type": "markdown",
   "id": "fc97d0e6",
   "metadata": {},
   "source": [
    "# add-tool"
   ]
  },
  {
   "cell_type": "code",
   "execution_count": 17,
   "id": "a13c0179",
   "metadata": {},
   "outputs": [
    {
     "name": "stdout",
     "output_type": "stream",
     "text": [
      "TAVILY_API_KEY OK!\n",
      "DEEPSEEK_API_KEY OK!\n"
     ]
    }
   ],
   "source": [
    "import dotenv\n",
    "dotenv.load_dotenv()\n",
    "import os\n",
    "if os.environ[\"TAVILY_API_KEY\"]:\n",
    "    print(\"TAVILY_API_KEY OK!\")\n",
    "if os.environ[\"DEEPSEEK_API_KEY\"]:\n",
    "    print(\"DEEPSEEK_API_KEY OK!\")"
   ]
  },
  {
   "cell_type": "code",
   "execution_count": 8,
   "id": "57c1a865",
   "metadata": {},
   "outputs": [
    {
     "data": {
      "text/plain": [
       "{'query': \"What's a 'node' in LangGraph?\",\n",
       " 'follow_up_questions': None,\n",
       " 'answer': None,\n",
       " 'images': [],\n",
       " 'results': [{'url': 'https://www.ibm.com/think/topics/langgraph',\n",
       "   'title': 'What is LangGraph? - IBM',\n",
       "   'content': 'LangGraph, created by LangChain, is an open source AI agent framework designed to build, deploy and manage complex generative AI agent workflows. At its core, LangGraph uses the power of graph-based architectures to model and manage the intricate relationships between various components of an AI agent workflow. LangGraph illuminates the processes within an AI workflow, allowing full transparency of the agent’s state. By combining these technologies with a set of APIs and tools, LangGraph provides users with a versatile platform for developing AI solutions and workflows including chatbots, state graphs and other agent-based systems. **Nodes**: In LangGraph, nodes represent individual components or agents within an AI workflow. LangGraph uses enhanced decision-making by modeling complex relationships between nodes, which means it uses AI agents to analyze their past actions and feedback.',\n",
       "   'score': 0.9159971,\n",
       "   'raw_content': None},\n",
       "  {'url': 'https://www.ionio.ai/blog/a-comprehensive-guide-about-langgraph-code-included',\n",
       "   'title': 'A Comprehensive Guide About Langgraph: Code Included - Ionio',\n",
       "   'content': \"A node can be any function or tool your agent uses in langgraph and these nodes are connected with other nodes using edges. Every workflow ends with a “END”\\xa0...What is Langgraph?·Creating a Basic Workflow...·Mini Project: Let's Create a\",\n",
       "   'score': 0.86767644,\n",
       "   'raw_content': None}],\n",
       " 'response_time': 0.91,\n",
       " 'request_id': '46a0a688-7b84-43f2-b56c-e31dd02f7a78'}"
      ]
     },
     "execution_count": 8,
     "metadata": {},
     "output_type": "execute_result"
    }
   ],
   "source": [
    "from langchain_tavily import TavilySearch\n",
    "\n",
    "tool = TavilySearch(max_results=2)\n",
    "tools = [tool]\n",
    "tool.invoke(\"What's a 'node' in LangGraph?\")"
   ]
  },
  {
   "cell_type": "code",
   "execution_count": 18,
   "id": "a0aef942",
   "metadata": {},
   "outputs": [],
   "source": [
    "import os\n",
    "\n",
    "from langchain.chat_models import init_chat_model\n",
    "\n",
    "llm = init_chat_model(\"deepseek-chat\", model_provider=\"deepseek\")\n",
    "\n"
   ]
  },
  {
   "cell_type": "code",
   "execution_count": 19,
   "id": "951a170b",
   "metadata": {},
   "outputs": [
    {
     "data": {
      "text/plain": [
       "<langgraph.graph.state.StateGraph at 0x1689fc31940>"
      ]
     },
     "execution_count": 19,
     "metadata": {},
     "output_type": "execute_result"
    }
   ],
   "source": [
    "from typing import Annotated\n",
    "\n",
    "from typing_extensions import TypedDict\n",
    "\n",
    "from langgraph.graph import StateGraph, START, END\n",
    "from langgraph.graph.message import add_messages\n",
    "\n",
    "class State(TypedDict):\n",
    "    messages: Annotated[list, add_messages]\n",
    "\n",
    "graph_builder = StateGraph(State)\n",
    "\n",
    "# Modification: tell the LLM which tools it can call\n",
    "llm_with_tools = llm.bind_tools(tools)\n",
    "\n",
    "def chatbot(state: State):\n",
    "    return {\"messages\": [llm_with_tools.invoke(state[\"messages\"])]}\n",
    "\n",
    "graph_builder.add_node(\"chatbot\", chatbot)"
   ]
  },
  {
   "cell_type": "code",
   "execution_count": 20,
   "id": "70d3e2e6",
   "metadata": {},
   "outputs": [
    {
     "data": {
      "text/plain": [
       "<langgraph.graph.state.StateGraph at 0x1689fc31940>"
      ]
     },
     "execution_count": 20,
     "metadata": {},
     "output_type": "execute_result"
    }
   ],
   "source": [
    "import json\n",
    "\n",
    "from langchain_core.messages import ToolMessage\n",
    "\n",
    "\n",
    "class BasicToolNode:\n",
    "    \"\"\"A node that runs the tools requested in the last AIMessage.\"\"\"\n",
    "\n",
    "    def __init__(self, tools: list) -> None:\n",
    "        self.tools_by_name = {tool.name: tool for tool in tools}\n",
    "\n",
    "    def __call__(self, inputs: dict):\n",
    "        if messages := inputs.get(\"messages\", []):\n",
    "            message = messages[-1]\n",
    "        else:\n",
    "            raise ValueError(\"No message found in input\")\n",
    "        outputs = []\n",
    "        for tool_call in message.tool_calls:\n",
    "            tool_result = self.tools_by_name[tool_call[\"name\"]].invoke(\n",
    "                tool_call[\"args\"]\n",
    "            )\n",
    "            outputs.append(\n",
    "                ToolMessage(\n",
    "                    content=json.dumps(tool_result),\n",
    "                    name=tool_call[\"name\"],\n",
    "                    tool_call_id=tool_call[\"id\"],\n",
    "                )\n",
    "            )\n",
    "        return {\"messages\": outputs}\n",
    "\n",
    "\n",
    "tool_node = BasicToolNode(tools=[tool])\n",
    "graph_builder.add_node(\"tools\", tool_node)"
   ]
  },
  {
   "cell_type": "code",
   "execution_count": 21,
   "id": "162bd977",
   "metadata": {},
   "outputs": [],
   "source": [
    "def route_tools(\n",
    "    state: State,\n",
    "):\n",
    "    \"\"\"\n",
    "    Use in the conditional_edge to route to the ToolNode if the last message\n",
    "    has tool calls. Otherwise, route to the end.\n",
    "    \"\"\"\n",
    "    if isinstance(state, list):\n",
    "        ai_message = state[-1]\n",
    "    elif messages := state.get(\"messages\", []):\n",
    "        ai_message = messages[-1]\n",
    "    else:\n",
    "        raise ValueError(f\"No messages found in input state to tool_edge: {state}\")\n",
    "    if hasattr(ai_message, \"tool_calls\") and len(ai_message.tool_calls) > 0:\n",
    "        return \"tools\"\n",
    "    return END\n",
    "\n",
    "\n",
    "# The `tools_condition` function returns \"tools\" if the chatbot asks to use a tool, and \"END\" if\n",
    "# it is fine directly responding. This conditional routing defines the main agent loop.\n",
    "graph_builder.add_conditional_edges(\n",
    "    \"chatbot\",\n",
    "    route_tools,\n",
    "    # The following dictionary lets you tell the graph to interpret the condition's outputs as a specific node\n",
    "    # It defaults to the identity function, but if you\n",
    "    # want to use a node named something else apart from \"tools\",\n",
    "    # You can update the value of the dictionary to something else\n",
    "    # e.g., \"tools\": \"my_tools\"\n",
    "    {\"tools\": \"tools\", END: END},\n",
    ")\n",
    "# Any time a tool is called, we return to the chatbot to decide the next step\n",
    "graph_builder.add_edge(\"tools\", \"chatbot\")\n",
    "graph_builder.add_edge(START, \"chatbot\")\n",
    "graph = graph_builder.compile()"
   ]
  },
  {
   "cell_type": "code",
   "execution_count": 22,
   "id": "e4daf884",
   "metadata": {},
   "outputs": [
    {
     "data": {
      "image/png": "[encoded data removed]",
      "text/plain": [
       "<IPython.core.display.Image object>"
      ]
     },
     "metadata": {},
     "output_type": "display_data"
    }
   ],
   "source": [
    "from IPython.display import Image, display\n",
    "\n",
    "try:\n",
    "    display(Image(graph.get_graph().draw_mermaid_png()))\n",
    "except Exception:\n",
    "    # This requires some extra dependencies and is optional\n",
    "    pass"
   ]
  },
  {
   "cell_type": "code",
   "execution_count": null,
   "id": "77db98e0",
   "metadata": {},
   "outputs": [
    {
     "name": "stdout",
     "output_type": "stream",
     "text": [
      "Assistant: 我需要知道您所在的具体位置才能查询今天的天气情况。请告诉我您想查询哪个城市的天气？\n",
      "Assistant: 我来帮您查询贵阳市的天气情况。\n",
      "Assistant: {\"query\": \"\\u8d35\\u9633\\u5e02\\u5929\\u6c14\\u9884\\u62a5\", \"follow_up_questions\": null, \"answer\": null, \"images\": [], \"results\": [{\"url\": \"https://m.weather.com.cn/mweather15d/101260101.shtml\", \"title\": \"\\u8d35\\u9633\\u5929\\u6c14\\u9884\\u62a515\\u5929\\u67e5\\u8be2\", \"content\": \"8~15\\u00e5\\u00a4\\u00a9\\u00e5\\u00a4\\u00a9\\u00e6\\u00b0\\u0094\\u00e9\\u00a2\\u0084\\u00e6\\u008a\\u00a5\\u00ef\\u00bc\\u008c\\u00e6\\u0098\\u00af\\u00e9\\u009b\\u0086\\u00e5\\u0090\\u0088\\u00e5\\u00a4\\u009a\\u00e5\\u00ae\\u00b6\\u00e5\\u0085\\u00a8\\u00e7\\u0090\\u0083\\u00e6\\u0095\\u00b0\\u00e5\\u0080\\u00bc\\u00e5\\u00a4\\u00a9\\u00e6\\u00b0\\u0094\\u00e9\\u00a2\\u0084\\u00e6\\u008a\\u00a5\\u00e6\\u00a8\\u00a1\\u00e5\\u00bc\\u008f\\u00e5\\u00ae\\u00a2\\u00e8\\u00a7\\u0082\\u00e9\\u00a2\\u0084\\u00e6\\u008a\\u00a5\\u00e4\\u00ba\\u00a7\\u00e5\\u0093\\u0081\\u00e5\\u008a \\u00e5\\u00b7\\u00a5\\u00e8\\u0080\\u008c\\u00e6\\u0088\\u0090\\u00ef\\u00bc\\u008c\\u00e6\\u009c\\u00aa\\u00e7\\u00bb\\u008f\\u00e9\\u00a2\\u0084\\u00e6\\u008a\\u00a5\\u00e5\\u0091\\u0098\\u00e4\\u00b8\\u00bb\\u00e8\\u00a7\\u0082\\u00e8\\u00ae\\u00a2\\u00e6\\u00ad\\u00a3\\u00ef\\u00bc\\u008c\\u00e5\\u008f\\u008d\\u00e6\\u0098 \\u00e6\\u009c\\u00aa\\u00e6\\u009d\\u00a5\\u00e4\\u00b8\\u0080\\u00e6\\u00ae\\u00b5\\u00e6\\u0097\\u00b6\\u00e9\\u0097\\u00b4\\u00e5\\u0086\\u0085\\u00e5\\u00a4\\u00a9\\u00e6\\u00b0\\u0094\\u00e5\\u008f\\u0098\\u00e5\\u008c\\u0096\\u00e8\\u00b6\\u008b\\u00e5\\u008a\\u00bf\\u00ef\\u00bc\\u008c\\u00e5\\u0085\\u00b7\\u00e6\\u009c\\u0089\\u00e4\\u00b8\\u0080\\u00e5\\u00ae\\u009a\\u00e7\\u009a\\u0084\\u00e4\\u00b8\\u008d\\u00e7\\u00a1\\u00ae\\u00e5\\u00ae\\u009a\\u00e6\\u0080\\u00a7\\u00ef\\u00bc\\u008c\\u00e4\\u00be\\u009b\\u00e5\\u0085\\u00ac\\u00e4\\u00bc\\u0097\\u00e5\\u008f\\u0082\\u00e8\\u0080\\u0083\\u00ef\\u00bc\\u008c\\u00e6\\u00ac\\u00b2\\u00e7\\u009f\\u00a5\\u00e6\\u009b\\u00b4\\u00e5\\u008a \\u00e5\\u0087\\u0086\\u00e7\\u00a1\\u00ae\\u00e7\\u009a\\u0084\\u00e5\\u00a4\\u00a9\\u00e6\\u00b0\\u0094\\u00e9\\u00a2\\u0084\\u00e6\\u008a\\u00a5\\u00e9\\u009c\\u0080\\u00e9\\u009a\\u008f\\u00e6\\u0097\\u00b6\\u00e5\\u0085\\u00b3\\u00e6\\u00b3\\u00a8\\u00e7\\u009f\\u00ad\\u00e6\\u009c\\u009f\\u00e5\\u00a4\\u00a9\\u00e6\\u00b0\\u0094\\u00e9\\u00a2\\u0084\\u00e6\\u008a\\u00a5\\u00e5\\u0092\\u008c\\u00e6\\u009c\\u0080\\u00e6\\u0096\\u00b0\\u00e9\\u00a2\\u0084\\u00e6\\u008a\\u00a5\\u00e4\\u00bf\\u00a1\\u00e6\\u0081\\u00af\\u00e6\\u009b\\u00b4\\u00e6\\u0096\\u00b0\\u00e3\\u0080\\u0082 \\u00e4\\u00bb\\u008a\\u00e5\\u00a4\\u00a9 \\u00e5\\u00a4\\u009a\\u00e4\\u00ba\\u0091\\u00e8\\u00bd\\u00ac\\u00e4\\u00b8\\u00ad\\u00e9\\u009b\\u00a8 \\u00e5\\u0091\\u00a8\\u00e4\\u00b8\\u0080 \\u00e9\\u0098\\u00b4 \\u00e5\\u0091\\u00a8\\u00e4\\u00ba\\u008c \\u00e9\\u0098\\u00b4 \\u00e5\\u0091\\u00a8\\u00e4\\u00b8\\u0089 \\u00e5\\u00a4\\u009a\\u00e4\\u00ba\\u0091 \\u00e5\\u0091\\u00a8\\u00e5\\u009b\\u009b \\u00e5\\u00a4\\u009a\\u00e4\\u00ba\\u0091 \\u00e5\\u0091\\u00a8\\u00e4\\u00ba\\u0094 \\u00e5\\u00a4\\u009a\\u00e4\\u00ba\\u0091 \\u00e5\\u0091\\u00a8\\u00e5\\u0085\\u00ad \\u00e9\\u009b\\u00b7\\u00e9\\u0098\\u00b5\\u00e9\\u009b\\u00a8\\u00e8\\u00bd\\u00ac\\u00e5\\u00a4\\u00a7\\u00e9\\u009b\\u00a8 \\u00e5\\u0091\\u00a8\\u00e6\\u0097\\u00a5 \\u00e9\\u0098\\u00b5\\u00e9\\u009b\\u00a8\\u00e8\\u00bd\\u00ac\\u00e9\\u009b\\u00a8 \\u00e5\\u0091\\u00a8\\u00e4\\u00b8\\u0080 \\u00e9\\u009b\\u00a8\\u00e8\\u00bd\\u00ac\\u00e6\\u0099\\u00b4 \\u00e5\\u0091\\u00a8\\u00e4\\u00ba\\u008c \\u00e6\\u0099\\u00b4 \\u00e5\\u0091\\u00a8\\u00e4\\u00b8\\u0089 \\u00e5\\u00a4\\u009a\\u00e4\\u00ba\\u0091 \\u00e5\\u0091\\u00a8\\u00e5\\u009b\\u009b \\u00e5\\u00a4\\u009a\\u00e4\\u00ba\\u0091\\u00e8\\u00bd\\u00ac\\u00e9\\u0098\\u00b4 \\u00e5\\u0091\\u00a8\\u00e4\\u00ba\\u0094 \\u00e5\\u00a4\\u009a\\u00e4\\u00ba\\u0091\\u00e8\\u00bd\\u00ac\\u00e6\\u0099\\u00b4 \\u00e5\\u0091\\u00a8\\u00e5\\u0085\\u00ad \\u00e9\\u0098\\u00b4\\u00e8\\u00bd\\u00ac\\u00e6\\u0099\\u00b4 \\u00e5\\u0091\\u00a8\\u00e6\\u0097\\u00a5 \\u00e6\\u0099\\u00b4\\u00e8\\u00bd\\u00ac\\u00e9\\u0098\\u00b4 \\u00e6\\u00b8\\u00a9\\u00e5\\u00ba\\u00a6\\u00e8\\u00b6\\u008b\\u00e5\\u008a\\u00bf \\u00e9\\u0099\\u008d\\u00e6\\u00b0\\u00b4\\u00e8\\u00b6\\u008b\\u00e5\\u008a\\u00bf \\u00e5\\u0088\\u00a9\\u00e5\\u00a5\\u0087\\u00e9\\u00a9\\u00ac \\u00e5\\u008f\\u0088\\u00e8\\u00a6\\u0081\\u00e7\\u0083\\u00ad\\u00e7\\u0083\\u00ad\\u00e7\\u0083\\u00ad\\u00e7\\u0083\\u00ad\\u00e7\\u0083\\u00ad\\u00e7\\u0083\\u00ad\\u00e7\\u0083\\u00ad\\u00e7\\u0083\\u00ad\\u00e7\\u0083\\u00ad\\u00e7\\u0083\\u00ad\\u00e4\\u00ba\\u0086 \\u00e5\\u008f\\u0088\\u00e8\\u00a6\\u0081\\u00e7\\u0083\\u00ad\\u00e7\\u0083\\u00ad\\u00e7\\u0083\\u00ad\\u00e7\\u0083\\u00ad\\u00e7\\u0083\\u00ad\\u00e7\\u0083\\u00ad\\u00e7\\u0083\\u00ad\\u00e7\\u0083\\u00ad\\u00e7\\u0083\\u00ad\\u00e7\\u0083\\u00ad\\u00e4\\u00ba\\u0086 \\u00e5\\u008f\\u0088\\u00e8\\u00a6\\u0081\\u00e7\\u0083\\u00ad\\u00e7\\u0083\\u00ad\\u00e7\\u0083\\u00ad\\u00e7\\u0083\\u00ad\\u00e7\\u0083\\u00ad\\u00e7\\u0083\\u00ad\\u00e7\\u0083\\u00ad\\u00e7\\u0083\\u00ad\\u00e7\\u0083\\u00ad\\u00e7\\u0083\\u00ad\\u00e4\\u00ba\\u0086 \\u00e5\\u0085\\u00a8\\u00e5\\u009b\\u00bd\\u00e7\\u00ab\\u00af\\u00e5\\u008d\\u0088\\u00e5\\u0081\\u0087\\u00e6\\u009c\\u009f\\u00e5\\u00a4\\u00a9\\u00e6\\u00b0\\u0094\\u00e5\\u009c\\u00b0\\u00e5\\u009b\\u00be \\u00e5\\u0085\\u00a8\\u00e5\\u009b\\u00bd\\u00e7\\u00ab\\u00af\\u00e5\\u008d\\u0088\\u00e5\\u0081\\u0087\\u00e6\\u009c\\u009f\\u00e5\\u00a4\\u00a9\\u00e6\\u00b0\\u0094\\u00e5\\u009c\\u00b0\\u00e5\\u009b\\u00be \\u00e5\\u0085\\u00a8\\u00e5\\u009b\\u00bd\\u00e7\\u00ab\\u00af\\u00e5\\u008d\\u0088\\u00e5\\u0081\\u0087\\u00e6\\u009c\\u009f\\u00e5\\u00a4\\u00a9\\u00e6\\u00b0\\u0094\\u00e5\\u009c\\u00b0\\u00e5\\u009b\\u00be \\u00e5\\u008c\\u0097\\u00e4\\u00ba\\u00ac\\u00e5\\u009c\\u0086\\u00e6\\u0098\\u008e\\u00e5\\u009b\\u00ad\\u00e7\\u009d\\u00a1\\u00e8\\u008e\\u00b2\\u00e7\\u00bb\\u00bd\\u00e6\\u0094\\u00be \\u00e5\\u008c\\u0097\\u00e4\\u00ba\\u00ac\\u00e5\\u009c\\u0086\\u00e6\\u0098\\u008e\\u00e5\\u009b\\u00ad\\u00e7\\u009d\\u00a1\\u00e8\\u008e\\u00b2\\u00e7\\u00bb\\u00bd\\u00e6\\u0094\\u00be \\u00e5\\u008c\\u0097\\u00e4\\u00ba\\u00ac\\u00e5\\u009c\\u0086\\u00e6\\u0098\\u008e\\u00e5\\u009b\\u00ad\\u00e7\\u009d\\u00a1\\u00e8\\u008e\\u00b2\\u00e7\\u00bb\\u00bd\\u00e6\\u0094\\u00be \\u00e5\\u00b0\\u008f\\u00e6\\u00bb\\u00a1\\u00ef\\u00bc\\u009a\\u00e7\\u0089\\u00a9\\u00e8\\u0087\\u00b4\\u00e4\\u00ba\\u008e\\u00e6\\u00ad\\u00a4\\u00e5\\u00b0\\u008f\\u00e5\\u00be\\u0097\\u00e7\\u009b\\u0088\\u00e6\\u00bb\\u00a1 \\u00e5\\u00b0\\u008f\\u00e6\\u00bb\\u00a1\\u00ef\\u00bc\\u009a\\u00e7\\u0089\\u00a9\\u00e8\\u0087\\u00b4\\u00e4\\u00ba\\u008e\\u00e6\\u00ad\\u00a4\\u00e5\\u00b0\\u008f\\u00e5\\u00be\\u0097\\u00e7\\u009b\\u0088\\u00e6\\u00bb\\u00a1 \\u00e5\\u00b0\\u008f\\u00e6\\u00bb\\u00a1\\u00ef\\u00bc\\u009a\\u00e7\\u0089\\u00a9\\u00e8\\u0087\\u00b4\\u00e4\\u00ba\\u008e\\u00e6\\u00ad\\u00a4\\u00e5\\u00b0\\u008f\\u00e5\\u00be\\u0097\\u00e7\\u009b\\u0088\\u00e6\\u00bb\\u00a1 \\u00e6\\u0099\\u00a8\\u00e5\\u0091\\u00b3\\u00e6\\u0097\\u00b6\\u00e8\\u008a\\u0082\\u00e2\\u0080\\u0094\\u00e2\\u0080\\u0094\\u00e5\\u00b0\\u008f\\u00e6\\u00bb\\u00a1 \\u00e6\\u0099\\u00a8\\u00e5\\u0091\\u00b3\\u00e6\\u0097\\u00b6\\u00e8\\u008a\\u0082\\u00e2\\u0080\\u0094\\u00e2\\u0080\\u0094\\u00e5\\u00b0\\u008f\\u00e6\\u00bb\\u00a1 \\u00e6\\u0099\\u00a8\\u00e5\\u0091\\u00b3\\u00e6\\u0097\\u00b6\\u00e8\\u008a\\u0082\\u00e2\\u0080\\u0094\\u00e2\\u0080\\u0094\\u00e5\\u00b0\\u008f\\u00e6\\u00bb\\u00a1 \\u00e4\\u00b8\\u00ad\\u00e5\\u00a4\\u00ae\\u00e6\\u00b0\\u0094\\u00e8\\u00b1\\u00a1\\u00e5\\u008f\\u00b03\\u00e6\\u009c\\u008827\\u00e6\\u0097\\u00a56\\u00e6\\u0097\\u00b6\\u00e7\\u00bb\\u00a7\\u00e7\\u00bb\\u00ad\\u00e5\\u008f\\u0091\\u00e5\\u00b8\\u0083\\u00e5\\u00a4\\u00a7\\u00e9\\u00a3\\u008e\\u00e8\\u0093\\u009d\\u00e8\\u0089\\u00b2\\u00e9\\u00a2\\u0084\\u00e8\\u00ad\\u00a6 \\u00e4\\u00b8\\u00ad\\u00e5\\u00a4\\u00ae\\u00e6\\u00b0\\u0094\\u00e8\\u00b1\\u00a1\\u00e5\\u008f\\u00b03\\u00e6\\u009c\\u008827\\u00e6\\u0097\\u00a56\\u00e6\\u0097\\u00b6\\u00e7\\u00bb\\u00a7\\u00e7\\u00bb\\u00ad\\u00e5\\u008f\\u0091\\u00e5\\u00b8\\u0083\\u00e5\\u00a4\\u00a7\\u00e9\\u00a3\\u008e\\u00e8\\u0093\\u009d\\u00e8\\u0089\\u00b2\\u00e9\\u00a2\\u0084\\u00e8\\u00ad\\u00a6 \\u00e4\\u00b8\\u00ad\\u00e5\\u00a4\\u00ae\\u00e6\\u00b0\\u0094\\u00e8\\u00b1\\u00a1\\u00e5\\u008f\\u00b03\\u00e6\\u009c\\u008827\\u00e6\\u0097\\u00a56\\u00e6\\u0097\\u00b6\\u00e7\\u00bb\\u00a7\\u00e7\\u00bb\\u00ad\\u00e5\\u008f\\u0091\\u00e5\\u00b8\\u0083\\u00e5\\u00a4\\u00a7\\u00e9\\u00a3\\u008e\\u00e8\\u0093\\u009d\\u00e8\\u0089\\u00b2\\u00e9\\u00a2\\u0084\\u00e8\\u00ad\\u00a6 \\u00e6\\u009c\\u00aa\\u00e6\\u009d\\u00a53\\u00e5\\u00a4\\u00a9\\u00e5\\u0085\\u00ac\\u00e6\\u008a\\u00a5 \\u00e6\\u009c\\u00aa\\u00e6\\u009d\\u00a510\\u00e5\\u00a4\\u00a9\\u00e5\\u0085\\u00ac\\u00e6\\u008a\\u00a5 \\u00e8\\u00af\\u00b7\\u00e4\\u00bd\\u00bf\\u00e7\\u0094\\u00a8\\u00e6\\u00b5\\u008f\\u00e8\\u00a7\\u0088\\u00e5\\u0099\\u00a8\\u00e7\\u009a\\u0084\\u00e5\\u0088\\u0086\\u00e4\\u00ba\\u00ab\\u00e5\\u008a\\u009f\\u00e8\\u0083\\u00bd\\u00e5\\u0088\\u0086\\u00e4\\u00ba\\u00ab \\u00e5\\u00be\\u00ae\\u00e4\\u00bf\\u00a1\\u00e5\\u0085\\u00ac\\u00e4\\u00bc\\u0097\\u00e5\\u008f\\u00b7 \\u00e5\\u00be\\u00ae\\u00e4\\u00bf\\u00a1\\u00e5\\u00b0\\u008f\\u00e7\\u00a8\\u008b\\u00e5\\u00ba\\u008f \\u00e6\\u0096\\u00b0\\u00e6\\u00b5\\u00aa\\u00e5\\u00be\\u00ae\\u00e5\\u008d\\u009a \\u00e4\\u00ba\\u00acICP\\u00e8\\u00af\\u0081010385\\u00e5\\u008f\\u00b7  \\u00e4\\u00ba\\u00ac\\u00e5\\u0085\\u00ac\\u00e7\\u00bd\\u0091\\u00e5\\u00ae\\u0089\\u00e5\\u00a4\\u008711041400134\\u00e5\\u008f\\u00b7 \\u00c2\\u00a92008-2025 \\u00e4\\u00b8\\u00ad\\u00e5\\u009b\\u00bd\\u00e5\\u00a4\\u00a9\\u00e6\\u00b0\\u0094 \\u00e7\\u0089\\u0088\\u00e6\\u009d\\u0083\\u00e6\\u0089\\u0080\\u00e6\\u009c\\u0089 \\u00e6\\u00b0\\u0094\\u00e8\\u00b1\\u00a1\\u00e6\\u0095\\u00b0\\u00e6\\u008d\\u00ae\\u00e6\\u009d\\u00a5\\u00e6\\u00ba\\u0090\\u00ef\\u00bc\\u009a\\u00e4\\u00b8\\u00ad\\u00e5\\u00a4\\u00ae\\u00e6\\u00b0\\u0094\\u00e8\\u00b1\\u00a1\\u00e5\\u008f\\u00b0 \\u00e9\\u00a2\\u0084\\u00e6\\u008a\\u00a5\\u00e6\\u009b\\u00b4\\u00e6\\u0096\\u00b0\\u00e6\\u0097\\u00b6\\u00e9\\u0097\\u00b4\\u00ef\\u00bc\\u009a\\u00e6\\u00af\\u008f\\u00e6\\u0097\\u00a506\\u00e3\\u0080\\u008108\\u00e3\\u0080\\u008112\\u00e3\\u0080\\u008116\\u00e3\\u0080\\u008120\\u00e6\\u0097\\u00b6\", \"score\": 0.98556, \"raw_content\": null}, {\"url\": \"https://www.weather.com.cn/weather1d/101260101.shtml\", \"title\": \"\\u9884\\u62a5 - \\u4e2d\\u56fd\\u5929\\u6c14\\u7f51\", \"content\": \"28\\u65e5\\u767d\\u5929. \\u591a\\u4e91. \\u5929\\u7a7a\\u6de1\\u84dd. \\u84dd\\u5929\\u9884\\u62a5\\u7efc\\u5408\\u5929\\u6c14\\u73b0\\u8c61\\u3001\\u80fd\\u89c1\\u5ea6\\u3001\\u7a7a\\u6c14\\u8d28\\u91cf\\u7b49\\u56e0\\u5b50\\uff0c\\u9884\\u6d4b\\u672a\\u6765\\u4e00\\u5468\\u7684\\u5929\\u7a7a\\u72b6\\u51b5\\u3002 \\u5929\\u7a7a\\u851a\\u84dd \\u53ef\\u89c1\\u900f\\u5f7b\\u84dd\\u5929\\uff0c\\u6216\\u6709\\u84dd\\u5929\\u767d\\u4e91\\u7f8e\\u666f\\u3002 \\u5929\\u7a7a\\u6de1\\u84dd \\u5929\\u7a7a\\u4e0d\\u591f\\u6e05\\u6f88\\uff0c\", \"score\": 0.98359, \"raw_content\": null}], \"response_time\": 2.63, \"request_id\": \"95b898a7-a3de-4d01-ab64-e8a032fd9a9b\"}\n",
      "Assistant: 让我再搜索更具体的贵阳市今日天气信息：\n",
      "Assistant: {\"query\": \"\\u8d35\\u9633\\u4eca\\u65e5\\u5929\\u6c14 \\u6e29\\u5ea6 \\u5929\\u6c14\\u9884\\u62a5\", \"follow_up_questions\": null, \"answer\": null, \"images\": [], \"results\": [{\"url\": \"https://m.weather.com.cn/mweather15d/101260101.shtml\", \"title\": \"\\u8d35\\u9633\\u5929\\u6c14\\u9884\\u62a515\\u5929\\u67e5\\u8be2\", \"content\": \"8~15\\u00e5\\u00a4\\u00a9\\u00e5\\u00a4\\u00a9\\u00e6\\u00b0\\u0094\\u00e9\\u00a2\\u0084\\u00e6\\u008a\\u00a5\\u00ef\\u00bc\\u008c\\u00e6\\u0098\\u00af\\u00e9\\u009b\\u0086\\u00e5\\u0090\\u0088\\u00e5\\u00a4\\u009a\\u00e5\\u00ae\\u00b6\\u00e5\\u0085\\u00a8\\u00e7\\u0090\\u0083\\u00e6\\u0095\\u00b0\\u00e5\\u0080\\u00bc\\u00e5\\u00a4\\u00a9\\u00e6\\u00b0\\u0094\\u00e9\\u00a2\\u0084\\u00e6\\u008a\\u00a5\\u00e6\\u00a8\\u00a1\\u00e5\\u00bc\\u008f\\u00e5\\u00ae\\u00a2\\u00e8\\u00a7\\u0082\\u00e9\\u00a2\\u0084\\u00e6\\u008a\\u00a5\\u00e4\\u00ba\\u00a7\\u00e5\\u0093\\u0081\\u00e5\\u008a \\u00e5\\u00b7\\u00a5\\u00e8\\u0080\\u008c\\u00e6\\u0088\\u0090\\u00ef\\u00bc\\u008c\\u00e6\\u009c\\u00aa\\u00e7\\u00bb\\u008f\\u00e9\\u00a2\\u0084\\u00e6\\u008a\\u00a5\\u00e5\\u0091\\u0098\\u00e4\\u00b8\\u00bb\\u00e8\\u00a7\\u0082\\u00e8\\u00ae\\u00a2\\u00e6\\u00ad\\u00a3\\u00ef\\u00bc\\u008c\\u00e5\\u008f\\u008d\\u00e6\\u0098 \\u00e6\\u009c\\u00aa\\u00e6\\u009d\\u00a5\\u00e4\\u00b8\\u0080\\u00e6\\u00ae\\u00b5\\u00e6\\u0097\\u00b6\\u00e9\\u0097\\u00b4\\u00e5\\u0086\\u0085\\u00e5\\u00a4\\u00a9\\u00e6\\u00b0\\u0094\\u00e5\\u008f\\u0098\\u00e5\\u008c\\u0096\\u00e8\\u00b6\\u008b\\u00e5\\u008a\\u00bf\\u00ef\\u00bc\\u008c\\u00e5\\u0085\\u00b7\\u00e6\\u009c\\u0089\\u00e4\\u00b8\\u0080\\u00e5\\u00ae\\u009a\\u00e7\\u009a\\u0084\\u00e4\\u00b8\\u008d\\u00e7\\u00a1\\u00ae\\u00e5\\u00ae\\u009a\\u00e6\\u0080\\u00a7\\u00ef\\u00bc\\u008c\\u00e4\\u00be\\u009b\\u00e5\\u0085\\u00ac\\u00e4\\u00bc\\u0097\\u00e5\\u008f\\u0082\\u00e8\\u0080\\u0083\\u00ef\\u00bc\\u008c\\u00e6\\u00ac\\u00b2\\u00e7\\u009f\\u00a5\\u00e6\\u009b\\u00b4\\u00e5\\u008a \\u00e5\\u0087\\u0086\\u00e7\\u00a1\\u00ae\\u00e7\\u009a\\u0084\\u00e5\\u00a4\\u00a9\\u00e6\\u00b0\\u0094\\u00e9\\u00a2\\u0084\\u00e6\\u008a\\u00a5\\u00e9\\u009c\\u0080\\u00e9\\u009a\\u008f\\u00e6\\u0097\\u00b6\\u00e5\\u0085\\u00b3\\u00e6\\u00b3\\u00a8\\u00e7\\u009f\\u00ad\\u00e6\\u009c\\u009f\\u00e5\\u00a4\\u00a9\\u00e6\\u00b0\\u0094\\u00e9\\u00a2\\u0084\\u00e6\\u008a\\u00a5\\u00e5\\u0092\\u008c\\u00e6\\u009c\\u0080\\u00e6\\u0096\\u00b0\\u00e9\\u00a2\\u0084\\u00e6\\u008a\\u00a5\\u00e4\\u00bf\\u00a1\\u00e6\\u0081\\u00af\\u00e6\\u009b\\u00b4\\u00e6\\u0096\\u00b0\\u00e3\\u0080\\u0082 \\u00e4\\u00bb\\u008a\\u00e5\\u00a4\\u00a9 \\u00e5\\u00a4\\u009a\\u00e4\\u00ba\\u0091\\u00e8\\u00bd\\u00ac\\u00e4\\u00b8\\u00ad\\u00e9\\u009b\\u00a8 \\u00e5\\u0091\\u00a8\\u00e4\\u00b8\\u0080 \\u00e9\\u0098\\u00b4 \\u00e5\\u0091\\u00a8\\u00e4\\u00ba\\u008c \\u00e9\\u0098\\u00b4 \\u00e5\\u0091\\u00a8\\u00e4\\u00b8\\u0089 \\u00e5\\u00a4\\u009a\\u00e4\\u00ba\\u0091 \\u00e5\\u0091\\u00a8\\u00e5\\u009b\\u009b \\u00e5\\u00a4\\u009a\\u00e4\\u00ba\\u0091 \\u00e5\\u0091\\u00a8\\u00e4\\u00ba\\u0094 \\u00e5\\u00a4\\u009a\\u00e4\\u00ba\\u0091 \\u00e5\\u0091\\u00a8\\u00e5\\u0085\\u00ad \\u00e9\\u009b\\u00b7\\u00e9\\u0098\\u00b5\\u00e9\\u009b\\u00a8\\u00e8\\u00bd\\u00ac\\u00e5\\u00a4\\u00a7\\u00e9\\u009b\\u00a8 \\u00e5\\u0091\\u00a8\\u00e6\\u0097\\u00a5 \\u00e9\\u0098\\u00b5\\u00e9\\u009b\\u00a8\\u00e8\\u00bd\\u00ac\\u00e9\\u009b\\u00a8 \\u00e5\\u0091\\u00a8\\u00e4\\u00b8\\u0080 \\u00e9\\u009b\\u00a8\\u00e8\\u00bd\\u00ac\\u00e6\\u0099\\u00b4 \\u00e5\\u0091\\u00a8\\u00e4\\u00ba\\u008c \\u00e6\\u0099\\u00b4 \\u00e5\\u0091\\u00a8\\u00e4\\u00b8\\u0089 \\u00e5\\u00a4\\u009a\\u00e4\\u00ba\\u0091 \\u00e5\\u0091\\u00a8\\u00e5\\u009b\\u009b \\u00e5\\u00a4\\u009a\\u00e4\\u00ba\\u0091\\u00e8\\u00bd\\u00ac\\u00e9\\u0098\\u00b4 \\u00e5\\u0091\\u00a8\\u00e4\\u00ba\\u0094 \\u00e5\\u00a4\\u009a\\u00e4\\u00ba\\u0091\\u00e8\\u00bd\\u00ac\\u00e6\\u0099\\u00b4 \\u00e5\\u0091\\u00a8\\u00e5\\u0085\\u00ad \\u00e9\\u0098\\u00b4\\u00e8\\u00bd\\u00ac\\u00e6\\u0099\\u00b4 \\u00e5\\u0091\\u00a8\\u00e6\\u0097\\u00a5 \\u00e6\\u0099\\u00b4\\u00e8\\u00bd\\u00ac\\u00e9\\u0098\\u00b4 \\u00e6\\u00b8\\u00a9\\u00e5\\u00ba\\u00a6\\u00e8\\u00b6\\u008b\\u00e5\\u008a\\u00bf \\u00e9\\u0099\\u008d\\u00e6\\u00b0\\u00b4\\u00e8\\u00b6\\u008b\\u00e5\\u008a\\u00bf \\u00e5\\u0088\\u00a9\\u00e5\\u00a5\\u0087\\u00e9\\u00a9\\u00ac \\u00e5\\u008f\\u0088\\u00e8\\u00a6\\u0081\\u00e7\\u0083\\u00ad\\u00e7\\u0083\\u00ad\\u00e7\\u0083\\u00ad\\u00e7\\u0083\\u00ad\\u00e7\\u0083\\u00ad\\u00e7\\u0083\\u00ad\\u00e7\\u0083\\u00ad\\u00e7\\u0083\\u00ad\\u00e7\\u0083\\u00ad\\u00e7\\u0083\\u00ad\\u00e4\\u00ba\\u0086 \\u00e5\\u008f\\u0088\\u00e8\\u00a6\\u0081\\u00e7\\u0083\\u00ad\\u00e7\\u0083\\u00ad\\u00e7\\u0083\\u00ad\\u00e7\\u0083\\u00ad\\u00e7\\u0083\\u00ad\\u00e7\\u0083\\u00ad\\u00e7\\u0083\\u00ad\\u00e7\\u0083\\u00ad\\u00e7\\u0083\\u00ad\\u00e7\\u0083\\u00ad\\u00e4\\u00ba\\u0086 \\u00e5\\u008f\\u0088\\u00e8\\u00a6\\u0081\\u00e7\\u0083\\u00ad\\u00e7\\u0083\\u00ad\\u00e7\\u0083\\u00ad\\u00e7\\u0083\\u00ad\\u00e7\\u0083\\u00ad\\u00e7\\u0083\\u00ad\\u00e7\\u0083\\u00ad\\u00e7\\u0083\\u00ad\\u00e7\\u0083\\u00ad\\u00e7\\u0083\\u00ad\\u00e4\\u00ba\\u0086 \\u00e5\\u0085\\u00a8\\u00e5\\u009b\\u00bd\\u00e7\\u00ab\\u00af\\u00e5\\u008d\\u0088\\u00e5\\u0081\\u0087\\u00e6\\u009c\\u009f\\u00e5\\u00a4\\u00a9\\u00e6\\u00b0\\u0094\\u00e5\\u009c\\u00b0\\u00e5\\u009b\\u00be \\u00e5\\u0085\\u00a8\\u00e5\\u009b\\u00bd\\u00e7\\u00ab\\u00af\\u00e5\\u008d\\u0088\\u00e5\\u0081\\u0087\\u00e6\\u009c\\u009f\\u00e5\\u00a4\\u00a9\\u00e6\\u00b0\\u0094\\u00e5\\u009c\\u00b0\\u00e5\\u009b\\u00be \\u00e5\\u0085\\u00a8\\u00e5\\u009b\\u00bd\\u00e7\\u00ab\\u00af\\u00e5\\u008d\\u0088\\u00e5\\u0081\\u0087\\u00e6\\u009c\\u009f\\u00e5\\u00a4\\u00a9\\u00e6\\u00b0\\u0094\\u00e5\\u009c\\u00b0\\u00e5\\u009b\\u00be \\u00e5\\u008c\\u0097\\u00e4\\u00ba\\u00ac\\u00e5\\u009c\\u0086\\u00e6\\u0098\\u008e\\u00e5\\u009b\\u00ad\\u00e7\\u009d\\u00a1\\u00e8\\u008e\\u00b2\\u00e7\\u00bb\\u00bd\\u00e6\\u0094\\u00be \\u00e5\\u008c\\u0097\\u00e4\\u00ba\\u00ac\\u00e5\\u009c\\u0086\\u00e6\\u0098\\u008e\\u00e5\\u009b\\u00ad\\u00e7\\u009d\\u00a1\\u00e8\\u008e\\u00b2\\u00e7\\u00bb\\u00bd\\u00e6\\u0094\\u00be \\u00e5\\u008c\\u0097\\u00e4\\u00ba\\u00ac\\u00e5\\u009c\\u0086\\u00e6\\u0098\\u008e\\u00e5\\u009b\\u00ad\\u00e7\\u009d\\u00a1\\u00e8\\u008e\\u00b2\\u00e7\\u00bb\\u00bd\\u00e6\\u0094\\u00be \\u00e5\\u00b0\\u008f\\u00e6\\u00bb\\u00a1\\u00ef\\u00bc\\u009a\\u00e7\\u0089\\u00a9\\u00e8\\u0087\\u00b4\\u00e4\\u00ba\\u008e\\u00e6\\u00ad\\u00a4\\u00e5\\u00b0\\u008f\\u00e5\\u00be\\u0097\\u00e7\\u009b\\u0088\\u00e6\\u00bb\\u00a1 \\u00e5\\u00b0\\u008f\\u00e6\\u00bb\\u00a1\\u00ef\\u00bc\\u009a\\u00e7\\u0089\\u00a9\\u00e8\\u0087\\u00b4\\u00e4\\u00ba\\u008e\\u00e6\\u00ad\\u00a4\\u00e5\\u00b0\\u008f\\u00e5\\u00be\\u0097\\u00e7\\u009b\\u0088\\u00e6\\u00bb\\u00a1 \\u00e5\\u00b0\\u008f\\u00e6\\u00bb\\u00a1\\u00ef\\u00bc\\u009a\\u00e7\\u0089\\u00a9\\u00e8\\u0087\\u00b4\\u00e4\\u00ba\\u008e\\u00e6\\u00ad\\u00a4\\u00e5\\u00b0\\u008f\\u00e5\\u00be\\u0097\\u00e7\\u009b\\u0088\\u00e6\\u00bb\\u00a1 \\u00e6\\u0099\\u00a8\\u00e5\\u0091\\u00b3\\u00e6\\u0097\\u00b6\\u00e8\\u008a\\u0082\\u00e2\\u0080\\u0094\\u00e2\\u0080\\u0094\\u00e5\\u00b0\\u008f\\u00e6\\u00bb\\u00a1 \\u00e6\\u0099\\u00a8\\u00e5\\u0091\\u00b3\\u00e6\\u0097\\u00b6\\u00e8\\u008a\\u0082\\u00e2\\u0080\\u0094\\u00e2\\u0080\\u0094\\u00e5\\u00b0\\u008f\\u00e6\\u00bb\\u00a1 \\u00e6\\u0099\\u00a8\\u00e5\\u0091\\u00b3\\u00e6\\u0097\\u00b6\\u00e8\\u008a\\u0082\\u00e2\\u0080\\u0094\\u00e2\\u0080\\u0094\\u00e5\\u00b0\\u008f\\u00e6\\u00bb\\u00a1 \\u00e4\\u00b8\\u00ad\\u00e5\\u00a4\\u00ae\\u00e6\\u00b0\\u0094\\u00e8\\u00b1\\u00a1\\u00e5\\u008f\\u00b03\\u00e6\\u009c\\u008827\\u00e6\\u0097\\u00a56\\u00e6\\u0097\\u00b6\\u00e7\\u00bb\\u00a7\\u00e7\\u00bb\\u00ad\\u00e5\\u008f\\u0091\\u00e5\\u00b8\\u0083\\u00e5\\u00a4\\u00a7\\u00e9\\u00a3\\u008e\\u00e8\\u0093\\u009d\\u00e8\\u0089\\u00b2\\u00e9\\u00a2\\u0084\\u00e8\\u00ad\\u00a6 \\u00e4\\u00b8\\u00ad\\u00e5\\u00a4\\u00ae\\u00e6\\u00b0\\u0094\\u00e8\\u00b1\\u00a1\\u00e5\\u008f\\u00b03\\u00e6\\u009c\\u008827\\u00e6\\u0097\\u00a56\\u00e6\\u0097\\u00b6\\u00e7\\u00bb\\u00a7\\u00e7\\u00bb\\u00ad\\u00e5\\u008f\\u0091\\u00e5\\u00b8\\u0083\\u00e5\\u00a4\\u00a7\\u00e9\\u00a3\\u008e\\u00e8\\u0093\\u009d\\u00e8\\u0089\\u00b2\\u00e9\\u00a2\\u0084\\u00e8\\u00ad\\u00a6 \\u00e4\\u00b8\\u00ad\\u00e5\\u00a4\\u00ae\\u00e6\\u00b0\\u0094\\u00e8\\u00b1\\u00a1\\u00e5\\u008f\\u00b03\\u00e6\\u009c\\u008827\\u00e6\\u0097\\u00a56\\u00e6\\u0097\\u00b6\\u00e7\\u00bb\\u00a7\\u00e7\\u00bb\\u00ad\\u00e5\\u008f\\u0091\\u00e5\\u00b8\\u0083\\u00e5\\u00a4\\u00a7\\u00e9\\u00a3\\u008e\\u00e8\\u0093\\u009d\\u00e8\\u0089\\u00b2\\u00e9\\u00a2\\u0084\\u00e8\\u00ad\\u00a6 \\u00e6\\u009c\\u00aa\\u00e6\\u009d\\u00a53\\u00e5\\u00a4\\u00a9\\u00e5\\u0085\\u00ac\\u00e6\\u008a\\u00a5 \\u00e6\\u009c\\u00aa\\u00e6\\u009d\\u00a510\\u00e5\\u00a4\\u00a9\\u00e5\\u0085\\u00ac\\u00e6\\u008a\\u00a5 \\u00e8\\u00af\\u00b7\\u00e4\\u00bd\\u00bf\\u00e7\\u0094\\u00a8\\u00e6\\u00b5\\u008f\\u00e8\\u00a7\\u0088\\u00e5\\u0099\\u00a8\\u00e7\\u009a\\u0084\\u00e5\\u0088\\u0086\\u00e4\\u00ba\\u00ab\\u00e5\\u008a\\u009f\\u00e8\\u0083\\u00bd\\u00e5\\u0088\\u0086\\u00e4\\u00ba\\u00ab \\u00e5\\u00be\\u00ae\\u00e4\\u00bf\\u00a1\\u00e5\\u0085\\u00ac\\u00e4\\u00bc\\u0097\\u00e5\\u008f\\u00b7 \\u00e5\\u00be\\u00ae\\u00e4\\u00bf\\u00a1\\u00e5\\u00b0\\u008f\\u00e7\\u00a8\\u008b\\u00e5\\u00ba\\u008f \\u00e6\\u0096\\u00b0\\u00e6\\u00b5\\u00aa\\u00e5\\u00be\\u00ae\\u00e5\\u008d\\u009a \\u00e4\\u00ba\\u00acICP\\u00e8\\u00af\\u0081010385\\u00e5\\u008f\\u00b7  \\u00e4\\u00ba\\u00ac\\u00e5\\u0085\\u00ac\\u00e7\\u00bd\\u0091\\u00e5\\u00ae\\u0089\\u00e5\\u00a4\\u008711041400134\\u00e5\\u008f\\u00b7 \\u00c2\\u00a92008-2025 \\u00e4\\u00b8\\u00ad\\u00e5\\u009b\\u00bd\\u00e5\\u00a4\\u00a9\\u00e6\\u00b0\\u0094 \\u00e7\\u0089\\u0088\\u00e6\\u009d\\u0083\\u00e6\\u0089\\u0080\\u00e6\\u009c\\u0089 \\u00e6\\u00b0\\u0094\\u00e8\\u00b1\\u00a1\\u00e6\\u0095\\u00b0\\u00e6\\u008d\\u00ae\\u00e6\\u009d\\u00a5\\u00e6\\u00ba\\u0090\\u00ef\\u00bc\\u009a\\u00e4\\u00b8\\u00ad\\u00e5\\u00a4\\u00ae\\u00e6\\u00b0\\u0094\\u00e8\\u00b1\\u00a1\\u00e5\\u008f\\u00b0 \\u00e9\\u00a2\\u0084\\u00e6\\u008a\\u00a5\\u00e6\\u009b\\u00b4\\u00e6\\u0096\\u00b0\\u00e6\\u0097\\u00b6\\u00e9\\u0097\\u00b4\\u00ef\\u00bc\\u009a\\u00e6\\u00af\\u008f\\u00e6\\u0097\\u00a506\\u00e3\\u0080\\u008108\\u00e3\\u0080\\u008112\\u00e3\\u0080\\u008116\\u00e3\\u0080\\u008120\\u00e6\\u0097\\u00b6\", \"score\": 0.71040785, \"raw_content\": null}, {\"url\": \"https://www.zgjia.com/guiyang/10tian.html\", \"title\": \"\\u8d35\\u5dde\\u7701\\u8d35\\u9633\\u5e02\\u672a\\u676510\\u5929\\u5929\\u6c14\\u9884\\u62a5\\u67e5\\u8be2\", \"content\": \"\\u661f\\u671f\\u56db08/28 \\u9634\\u8f6c\\u591a\\u4e91 \\u4e1c\\u5357\\u98ce\\u8f6c\\u5357\\u98ce\\u4e09\\u81f3\\u56db\\u7ea7 20~29\\u00b0C \\u661f\\u671f\\u4e9408/29 \\u9635\\u96e8 \\u5317\\u98ce\\u4e00\\u4e8c\\u7ea7 20~28\\u00b0C \\u661f\\u671f\\u516d08/30 \\u9635\\u96e8 \\u4e1c\\u98ce\\u4e00\\u4e8c\\u7ea7 20~28\\u00b0C \\u661f\\u671f\\u65e508/31 \\u9635\\u96e8\\u8f6c\\u591a\\u4e91 \\u4e1c\\u98ce\\u4e00\\u4e8c\\u7ea7\", \"score\": 0.6729558, \"raw_content\": null}], \"response_time\": 2.17, \"request_id\": \"fda66ac5-d6d2-40ac-a2c7-de37198f8b9b\"}\n",
      "Assistant: 根据搜索结果，我为您提供贵阳市的天气信息：\n",
      "\n",
      "## 贵阳市天气预报\n",
      "\n",
      "**今日天气：**\n",
      "- 天气状况：多云转中雨\n",
      "- 温度范围：20~29°C\n",
      "- 风向：东南风转南风\n",
      "- 风力：三至四级\n",
      "\n",
      "**未来几天天气趋势：**\n",
      "- 明天（周四）：阴转多云，20~29°C\n",
      "- 周五：阵雨，20~28°C  \n",
      "- 周六：阵雨，20~28°C\n",
      "- 周日：阵雨转多云，20~28°C\n",
      "\n",
      "**温馨提示：**\n",
      "- 近期贵阳市有降雨天气，建议外出携带雨具\n",
      "- 温度较为舒适，在20-29°C之间\n",
      "- 风力适中，空气质量较好\n",
      "\n",
      "请注意，天气预报具有一定的不确定性，建议您关注最新的短期天气预报和预警信息，以便及时调整出行计划。\n",
      "Assistant: 我来为您搜索Dota2中卡尔（Invoker）的玩法指南和技巧。\n",
      "Assistant: {\"query\": \"Dota2 \\u5361\\u5c14 Invoker \\u73a9\\u6cd5 \\u6280\\u5de7 \\u6307\\u5357\", \"follow_up_questions\": null, \"answer\": null, \"images\": [], \"results\": [{\"url\": \"https://steamcommunity.com/sharedfiles/filedetails/?id=250839341\", \"title\": \"Guide :: Invoker-\\u7948\\u6c42\\u8005-\\u5361\\u5c14-\\u653b\\u7565\", \"content\": \"STEAM\\nLink to the Steam Homepage\\n\\n### Dota 2\\n\\n|  |  |\\n --- |\\n| 52 | Unique Visitors |\\n| 1 | Current Favorites |\\n\\nClose\\n\\nCloseValve Logo\", \"score\": 0.5271467, \"raw_content\": null}, {\"url\": \"https://steamcommunity.com/sharedfiles/filedetails/?l=schinese&id=144229070\", \"title\": \"Steam \\u793e\\u533a:: \\u6307\\u5357:: DOTA2 INVOKER ADVANCED GUIDE\", \"content\": \"STEAM\\nSteam \\u4e3b\\u9875\\u94fe\\u63a5\\n\\n### Dota 2\\n\\n|  |  |\\n --- |\\n| 440 | \\u4e0d\\u91cd\\u590d\\u8bbf\\u5ba2\\u6570 |\\n| 20 | \\u5f53\\u524d\\u6536\\u85cf\\u4eba\\u6570 |\\n\\n\\u5173\\u95ed\\n\\n\\u5173\\u95edValve \\u5fbd\\u6807\", \"score\": 0.48982134, \"raw_content\": null}], \"response_time\": 2.52, \"request_id\": \"add90adf-eebf-463d-8dc9-e98b7589e96b\"}\n",
      "Assistant: 让我搜索更详细的卡尔玩法信息：\n",
      "Assistant: {\"query\": \"Dota2 Invoker \\u5361\\u5c14\\u6280\\u80fd\\u7ec4\\u5408 \\u8fde\\u62db \\u52a0\\u70b9 \\u51fa\\u88c5\", \"follow_up_questions\": null, \"answer\": null, \"images\": [], \"results\": [{\"url\": \"https://www.reddit.com/r/DotA2/comments/15uxob/invoker_question_what_are_the_most_efficient/?tl=zh-hans\", \"title\": \"Invoker\\u7684\\u95ee\\u9898\\uff1a\\u6700\\u6709\\u6548\\u7684\\u6280\\u80fd\\u987a\\u5e8f\\u662f\\u4ec0\\u4e48\\uff1f : r/DotA2 - Reddit\", \"content\": \"\\u4e0d\\u7ba1\\u4f60\\u73b0\\u5728\\u7528\\u7684\\u662f\\u4ec0\\u4e48\\u51fa\\u88c5\\uff0c\\u5fc3\\u91cc\\u90fd\\u8981\\u6e05\\u695a\\u4f60\\u6700\\u597d\\u76844 \\u4e2a\\u6280\\u80fd\\u662f\\u4ec0\\u4e48\\uff0c\\u7136\\u540e\\u8bd5\\u7740\\u60f3\\u60f3\\u600e\\u4e48\\u7528\\u597d\\u5b83\\u4eec\\uff08\\u5c31\\u50cf\\u4f60\\u73a9\\u5176\\u4ed6\\u82f1\\u96c4\\u4e00\\u6837\\uff09\\u3002\\u60f3\\u6e05\\u695a\\u4e4b\\u540e\\uff0c\\u4f60\\u5c31\\u53ef\\u4ee5\\u8003\\u8651\\u4ec0\\u4e48\", \"score\": 0.3050453, \"raw_content\": null}, {\"url\": \"https://steamcommunity.com/sharedfiles/filedetails/?id=250839341\", \"title\": \"Guide :: Invoker-\\u7948\\u6c42\\u8005-\\u5361\\u5c14-\\u653b\\u7565\", \"content\": \"STEAM\\nLink to the Steam Homepage\\n\\n### Dota 2\\n\\n|  |  |\\n --- |\\n| 52 | Unique Visitors |\\n| 1 | Current Favorites |\\n\\nClose\\n\\nCloseValve Logo\", \"score\": 0.2930862, \"raw_content\": null}], \"response_time\": 3.61, \"request_id\": \"648a8f2d-22e7-4910-b760-b2d8022e03eb\"}\n",
      "Assistant: 让我搜索英文资料，可能会有更详细的信息：\n",
      "Assistant: {\"query\": \"Dota 2 Invoker guide build skills combos gameplay\", \"follow_up_questions\": null, \"answer\": null, \"images\": [], \"results\": [{\"url\": \"https://esports.gg/guides/dota-2/invoker-guide-all-spells-and-popular-combos/\", \"title\": \"Become a pianist in no time! All Invoker spells and best ...\", \"content\": \"You can try out most of these combos in Dota 2's demo mode. You can even come up with your own spell order that you feel most comfortable with.\\n\\n  \\n\\nHopefully, with this guide, you've gained some confidence to begin your Invoker journey in pubs. Remember, practice makes perfect. Once these spells are embedded in your muscle memory, you'll be a pianist in no time!\\n\\nStick around Esports.gg for more Dota 2 guides!\\n\\nTrending articles\\n\\n[](\\n\\nAll teams qualified for The International 2025 [...] A classic combo that is often used in the late game is the Tornado [WWQ] + Chaos Meteor [EEW] + Deafening Blast [QWE] combo. You can also opt for a slow and painful kill combo such as Ice Wall [QQE] + Forge Spirit [EEQ] + Cold Snap [QQQ]. [...] During the laning phase, Invoker usually doesn't have enough mana to cast multiple spells. Your best bet to finish off the enemy is to exert decent harass and execute a spell combo when the enemy has lowered HP. The E.M.P [WWW] + Tornado [WWQ] combo is very practical and you can even add a Cold Snap [QQQ] on top of it.\", \"score\": 0.70750624, \"raw_content\": null}, {\"url\": \"https://dota2protracker.com/hero/Invoker\", \"title\": \"Invoker Meta Item Builds - D2PT\", \"content\": \"+35 Alacrity Damage/Speed\\n\\n20\\n\\n+2 Chaos Meteors\\n\\n-5s Cold Snap Cooldown\\n\\n15\\n\\n+1 Facet Orb Level\\n\\n-4s Tornado Cooldown\\n\\n10\\n\\n+50 Ice Wall DPS\\n\\nImage 74: Scholar of Koryx\\n\\n4459 / 10303\\n\\n7596 \\n\\n27:35 \\n\\n- \\n\\n\\n\\nImage 75: Invoker\\n\\n Anonymous #2 lost 5 hours ago \\n\\n3/6/14 \\n\\nImage 76: MorphlingImage 77: Storm SpiritImage 78: BrewmasterImage 79: TuskImage 80: Batrider\\n\\nImage 81: Templar AssassinImage 82: InvokerImage 83: MarsImage 84: WindrangerImage 85: Undying\\n\\n1\\n\\n1\\n\\n1\\n\\n1\\n\\n1\\n\\n1 [...] Image 406: MuertaImage 407: InvokerImage 408: Night StalkerImage 409: SilencerImage 410: Shadow Shaman\\n\\n1\\n\\nImage 411: Has ScepterImage 412: No Shard\\n\\n2m\\n\\n4m\\n\\n10m\\n\\n12m\\n\\n16m\\n\\n24m\\n\\nImage 413: Mana DraughtTier 2\\n\\nImage 414: QuasImage 415: ExortImage 416: QuasImage 417: ExortImage 418: ExortImage 419: WexImage 420: ExortImage 421: QuasImage 422: ExortImage 423: Wex\\n\\n2x Quas/Wex/Exort Active Bonuses\\n\\n25\\n\\nRadial Deafening Blast\\n\\n+35 Alacrity Damage/Speed\\n\\n20\\n\\n+2 Chaos Meteors\\n\\n-5s Cold Snap Cooldown [...] 2x Quas/Wex/Exort Active Bonuses\\n\\n25\\n\\nRadial Deafening Blast\\n\\n+35 Alacrity Damage/Speed\\n\\n20\\n\\n+2 Chaos Meteors\\n\\n-5s Cold Snap Cooldown\\n\\n15\\n\\n+1 Facet Orb Level\\n\\n-4s Tornado Cooldown\\n\\n10\\n\\n+50 Ice Wall DPS\\n\\nImage 399: Scholar of Koryx\\n\\n2142 / 6095\\n\\n7340 \\n\\n48:35 \\n\\n-25 \\n\\n\\n\\nImage 400: Invoker\\n\\n \\u0414\\u0436\\u0435\\u043a\\u0438 \\u0427\\u0435\\u043d \\u041b\\u0435\\u0433\\u0435\\u043d\\u0434\\u0430 lost 20 hours ago \\n\\n7/4/5 \\n\\nImage 401: SvenImage 402: Death ProphetImage 403: OmniknightImage 404: Vengeful SpiritImage 405: Tinker\", \"score\": 0.604703, \"raw_content\": null}], \"response_time\": 1.89, \"request_id\": \"75bfd1e4-c837-4dda-8e99-d7da103f2340\"}\n",
      "Assistant: 让我搜索更多关于卡尔技能组合和玩法的详细信息：\n",
      "Assistant: {\"query\": \"\\\"Invoker\\\" \\\"Cold Snap\\\" \\\"Tornado\\\" \\\"Meteor\\\" \\\"Deafening Blast\\\" combo guide\", \"follow_up_questions\": null, \"answer\": null, \"images\": [], \"results\": [{\"url\": \"https://howdoiplay.com/?Invoker\", \"title\": \"Invoker - Tsunami's Dota Hero Tips and Counters\", \"content\": \"Learn and practice the stereotypical Invoker combos: EMP+Tornado, Forge Spirits+Cold Snap, Chaos Meteor+Sun Strike+Deafening Blast, Forge Spirits+Alacrity, Tornado+Sun Strike. [...] Sun Strike is useful for more than just sniping low HP heroes or comboing with Deafening Blast. Scoop a ranged creep last hit in the first creep wave or later in the game when you're just chilling regening in the fountain. Use the vision to scout out Rosh, runes, or jungle stacks.\\n   The Tormentor damages whatever hero hits them globally. If you're trying to escape enemies at critical HP, a big brain play could be denying yourself to the Tormentor by Sun Striking it. [...] The disarm of Deafening Blast can only be bypassed by activating debuff immunity/BKB. If you hit an enemy with it, they can't take off the debuff even with a strong dispel like Abaddon's Aphotic Shield, they can ignore it by activating BKB. The knockback can't be dispelled by anything.\", \"score\": 0.82492816, \"raw_content\": null}, {\"url\": \"https://esports.gg/guides/dota-2/invoker-guide-all-spells-and-popular-combos/\", \"title\": \"Become a pianist in no time! All Invoker spells and best beginner ...\", \"content\": \"A classic combo that is often used in the late game is the Tornado [WWQ] + Chaos Meteor [EEW] + Deafening Blast [QWE] combo. You can also opt for a slow and painful kill combo such as Ice Wall [QQE] + Forge Spirit [EEQ] + Cold Snap [QQQ]. [...] Invoker has a total of 10 spells: Cold Snap, Ghost Walk, Ice Wall, E.M.P, Tornado, Alacrity, Sun Strike, Forge Spirit, Chaos Meteor, and Deafening Blast.\\n\\nHere are quick descriptions of Invoker's spells and their hotkeys: [...] During the laning phase, Invoker usually doesn't have enough mana to cast multiple spells. Your best bet to finish off the enemy is to exert decent harass and execute a spell combo when the enemy has lowered HP. The E.M.P [WWW] + Tornado [WWQ] combo is very practical and you can even add a Cold Snap [QQQ] on top of it.\", \"score\": 0.8215175, \"raw_content\": null}], \"response_time\": 1.78, \"request_id\": \"ec4b6f95-a974-4689-99a2-15964330b3ed\"}\n",
      "Assistant: 基于搜索结果，我为您提供Dota2卡尔（Invoker）的详细玩法指南：\n",
      "\n",
      "## Dota2 卡尔（Invoker）玩法指南\n",
      "\n",
      "### 🔥 核心技能系统\n",
      "卡尔拥有3个基础元素球：\n",
      "- **Quas (Q)** - 冰元素，提供生命回复和控制\n",
      "- **Wex (W)** - 雷元素，提供攻速和移速  \n",
      "- **Exort (E)** - 火元素，提供攻击力和伤害\n",
      "\n",
      "### 🎯 主要技能组合（10个法术）\n",
      "\n",
      "**控制类：**\n",
      "- **Cold Snap (QQQ)** - 冰冷禁锢，攻击触发眩晕\n",
      "- **Tornado (WWQ)** - 龙卷风，范围击飞\n",
      "- **Ice Wall (QQE)** - 冰墙，减速效果\n",
      "\n",
      "**伤害类：**\n",
      "- **Chaos Meteor (EEW)** - 混沌陨石，持续伤害\n",
      "- **Sun Strike (EEE)** - 天火，全球范围伤害\n",
      "- **EMP (WWW)** - 电磁脉冲，烧蓝+伤害\n",
      "\n",
      "**辅助类：**\n",
      "- **Ghost Walk (QQW)** - 幽灵漫步，隐身\n",
      "- **Alacrity (WWE)** - 灵动迅捷，攻速加成\n",
      "- **Forge Spirit (EEQ)** - 熔炉精灵，召唤物\n",
      "- **Deafening Blast (QWE)** - 超震声波，击退+缴械\n",
      "\n",
      "### 🎮 常用连招组合\n",
      "\n",
      "**基础连招：**\n",
      "1. **EMP + Tornado** - 烧蓝+控制\n",
      "2. **Forge Spirit + Cold Snap** - 召唤物+控制\n",
      "3. **Tornado + Meteor + Deafening Blast** - 经典三连\n",
      "\n",
      "**进阶连招：**\n",
      "- **Ice Wall + Forge Spirit + Cold Snap** - 持续伤害控制\n",
      "- **Sun Strike + Deafening Blast** - 远程狙击\n",
      "\n",
      "### 📈 加点建议\n",
      "\n",
      "**前期（1-7级）：**\n",
      "- 优先点满Exort（火）增加攻击力\n",
      "- 适当点Quas（冰）保证生存\n",
      "- 7级时建议4-0-4-1的分配\n",
      "\n",
      "**中期（8-15级）：**\n",
      "- 开始补Wex（雷）元素\n",
      "- 根据局势选择主修方向\n",
      "\n",
      "### 🛡️ 出装路线\n",
      "\n",
      "**核心装备：**\n",
      "- **魔瓶** - 续航必备\n",
      "- **相位鞋/秘法鞋** - 根据局势选择\n",
      "- **Eul的神圣法杖** - 核心控制装备\n",
      "- **阿哈利姆神杖** - 大幅提升战斗力\n",
      "\n",
      "**后期装备：**\n",
      "- **刷新球** - 双倍技能释放\n",
      "- **黑皇杖** - 防止被控制\n",
      "- **希瓦的守护** - 护甲和减速\n",
      "- **血精石** - 回蓝和生存\n",
      "\n",
      "### 🎯 玩法技巧\n",
      "\n",
      "1. **对线期** - 利用高攻击力补刀，用Cold Snap骚扰\n",
      "2. **中期** - 积极参与小规模团战，用连招收割\n",
      "3. **后期** - 成为团队核心输出和控制\n",
      "\n",
      "4. **练习建议**：\n",
      "   - 在练习模式中熟悉所有技能组合\n",
      "   - 记忆常用连招的按键顺序\n",
      "   - 注意蓝量管理，卡尔很耗蓝\n",
      "\n",
      "### ⚠️ 注意事项\n",
      "\n",
      "- 卡尔操作难度极高，需要大量练习\n",
      "- 注意元素球的切换顺序\n",
      "- 合理分配技能点根据局势变化\n",
      "- 团战中注意站位，避免被先手\n",
      "\n",
      "卡尔是Dota2中最具挑战性的英雄之一，但一旦掌握，将成为战场上最强大的存在。建议从简单连招开始练习，逐步提升操作水平！\n",
      "Assistant: Hello! I'm here to help you with information and search tasks. I have access to a search engine that can find comprehensive, accurate, and trusted results on a wide range of topics.\n",
      "\n",
      "What would you like to know about? I can help you with:\n",
      "- Current events and news\n",
      "- Research on specific topics\n",
      "- Technical information\n",
      "- Historical facts\n",
      "- And much more!\n",
      "\n",
      "Just let me know what you're looking for, and I'll search for the most relevant information for you.\n",
      "Assistant: Hello! I'm here to help you with information and search tasks. I have access to a search tool that can find comprehensive, accurate, and trusted results on a wide range of topics.\n",
      "\n",
      "What would you like to know about? I can help you with:\n",
      "- Current events and news\n",
      "- Research on various topics\n",
      "- Technical information\n",
      "- Historical facts\n",
      "- And much more!\n",
      "\n",
      "Just let me know what you're looking for, and I'll search for the most relevant information for you.\n"
     ]
    }
   ],
   "source": [
    "def stream_graph_updates(user_input: str):\n",
    "    for event in graph.stream({\"messages\": [{\"role\": \"user\", \"content\": user_input}]}):\n",
    "        for value in event.values():\n",
    "            print(\"Assistant:\", value[\"messages\"][-1].content)\n",
    "\n",
    "while True:\n",
    "    try:\n",
    "        user_input = input(\"User: \")\n",
    "        if user_input.lower() in [\"quit\", \"exit\", \"q\"]:\n",
    "            print(\"Goodbye!\")\n",
    "            break\n",
    "\n",
    "        stream_graph_updates(user_input)\n",
    "    except:\n",
    "        # fallback if input() is not available\n",
    "        user_input = \"What do you know about LangGraph?\"\n",
    "        print(\"User: \" + user_input)\n",
    "        stream_graph_updates(user_input)\n",
    "        break"
   ]
  },
  {
   "cell_type": "code",
   "execution_count": null,
   "id": "0c2f3b20",
   "metadata": {},
   "outputs": [],
   "source": [
    "import os\n",
    "\n",
    "from langchain.chat_models import init_chat_model\n",
    "\n",
    "llm = init_chat_model(\"deepseek-chat\", model_provider=\"deepseek\")\n",
    "\n",
    "from typing import Annotated\n",
    "\n",
    "from langchain_tavily import TavilySearch\n",
    "from langchain_core.messages import BaseMessage\n",
    "from typing_extensions import TypedDict\n",
    "\n",
    "from langgraph.graph import StateGraph, START, END\n",
    "from langgraph.graph.message import add_messages\n",
    "from langgraph.prebuilt import ToolNode, tools_condition\n",
    "\n",
    "class State(TypedDict):\n",
    "    messages: Annotated[list, add_messages]\n",
    "\n",
    "graph_builder = StateGraph(State)\n",
    "\n",
    "tool = TavilySearch(max_results=2)\n",
    "tools = [tool]\n",
    "llm_with_tools = llm.bind_tools(tools)\n",
    "\n",
    "def chatbot(state: State):\n",
    "    return {\"messages\": [llm_with_tools.invoke(state[\"messages\"])]}\n",
    "\n",
    "graph_builder.add_node(\"chatbot\", chatbot)\n",
    "\n",
    "tool_node = ToolNode(tools=[tool])\n",
    "graph_builder.add_node(\"tools\", tool_node)\n",
    "\n",
    "graph_builder.add_conditional_edges(\n",
    "    \"chatbot\",\n",
    "    tools_condition,\n",
    ")\n",
    "# Any time a tool is called, we return to the chatbot to decide the next step\n",
    "graph_builder.add_edge(\"tools\", \"chatbot\")\n",
    "graph_builder.add_edge(START, \"chatbot\")\n",
    "graph = graph_builder.compile()"
   ]
  },
  {
   "cell_type": "code",
   "execution_count": 2,
   "id": "e5d9637c",
   "metadata": {},
   "outputs": [
    {
     "data": {
      "image/png": "[encoded data removed]",
      "text/plain": [
       "<IPython.core.display.Image object>"
      ]
     },
     "metadata": {},
     "output_type": "display_data"
    }
   ],
   "source": [
    "from IPython.display import Image, display\n",
    "\n",
    "try:\n",
    "    display(Image(graph.get_graph().draw_mermaid_png()))\n",
    "except Exception:\n",
    "    # This requires some extra dependencies and is optional\n",
    "    pass"
   ]
  },
  {
   "cell_type": "markdown",
   "id": "991da6a7",
   "metadata": {},
   "source": [
    "# add memory"
   ]
  },
  {
   "cell_type": "code",
   "execution_count": null,
   "id": "dd1b53d2",
   "metadata": {},
   "outputs": [],
   "source": []
  },
  {
   "cell_type": "code",
   "execution_count": 3,
   "id": "40a546a5",
   "metadata": {},
   "outputs": [],
   "source": [
    "from langgraph.checkpoint.memory import InMemorySaver\n",
    "\n",
    "memory = InMemorySaver()"
   ]
  },
  {
   "cell_type": "code",
   "execution_count": 4,
   "id": "59306f7c",
   "metadata": {},
   "outputs": [],
   "source": [
    "graph = graph_builder.compile(checkpointer=memory)"
   ]
  },
  {
   "cell_type": "code",
   "execution_count": 5,
   "id": "235c3a29",
   "metadata": {},
   "outputs": [],
   "source": [
    "config = {\"configurable\": {\"thread_id\": \"1\"}}"
   ]
  },
  {
   "cell_type": "code",
   "execution_count": 6,
   "id": "1e13c435",
   "metadata": {},
   "outputs": [
    {
     "name": "stdout",
     "output_type": "stream",
     "text": [
      "================================\u001b[1m Human Message \u001b[0m=================================\n",
      "\n",
      "Hi there! My name is Will.\n",
      "==================================\u001b[1m Ai Message \u001b[0m==================================\n",
      "\n",
      "Hi Will! Nice to meet you. I'm here to help you with any questions or tasks you might have. Whether you need information, research assistance, or help with various topics, feel free to ask! What can I do for you today?\n"
     ]
    }
   ],
   "source": [
    "user_input = \"Hi there! My name is Will.\"\n",
    "\n",
    "# The config is the **second positional argument** to stream() or invoke()!\n",
    "events = graph.stream(\n",
    "    {\"messages\": [{\"role\": \"user\", \"content\": user_input}]},\n",
    "    config,\n",
    "    stream_mode=\"values\",\n",
    ")\n",
    "for event in events:\n",
    "    event[\"messages\"][-1].pretty_print()"
   ]
  },
  {
   "cell_type": "code",
   "execution_count": 8,
   "id": "d55262c9",
   "metadata": {},
   "outputs": [
    {
     "name": "stdout",
     "output_type": "stream",
     "text": [
      "================================\u001b[1m Human Message \u001b[0m=================================\n",
      "\n",
      "Remember my name?\n",
      "==================================\u001b[1m Ai Message \u001b[0m==================================\n",
      "\n",
      "Yes, Will! I remember that you introduced yourself as Will at the beginning of our conversation. It's nice to chat with you! \n",
      "\n",
      "However, I should note that I don't have persistent memory between conversations, so if you start a new chat session later, I won't remember this interaction or your name unless you tell me again.\n",
      "\n",
      "What would you like to talk about or work on today, Will?\n"
     ]
    }
   ],
   "source": [
    "user_input = \"Remember my name?\"\n",
    "\n",
    "# The config is the **second positional argument** to stream() or invoke()!\n",
    "events = graph.stream(\n",
    "    {\"messages\": [{\"role\": \"user\", \"content\": user_input}]},\n",
    "    config,\n",
    "    stream_mode=\"values\",\n",
    ")\n",
    "for event in events:\n",
    "    event[\"messages\"][-1].pretty_print()"
   ]
  },
  {
   "cell_type": "code",
   "execution_count": null,
   "id": "9c7e4b0b",
   "metadata": {},
   "outputs": [
    {
     "name": "stdout",
     "output_type": "stream",
     "text": [
      "================================\u001b[1m Human Message \u001b[0m=================================\n",
      "\n",
      "Hi there! My name is Will.\n",
      "==================================\u001b[1m Ai Message \u001b[0m==================================\n",
      "\n",
      "Hi Will! Nice to meet you. I'm here to help you with any questions or tasks you might have. Whether you need information, research assistance, or just want to chat, feel free to ask! What can I do for you today?\n"
     ]
    }
   ],
   "source": [
    "user_input = \"Remember my name?\"\n",
    "# The only difference is we change the `thread_id` here to \"2\" instead of \"1\"\n",
    "events = graph.stream(\n",
    "    {\"messages\": [{\"role\": \"user\", \"content\": user_input}]},\n",
    "    {\"configurable\": {\"thread_id\": \"2\"}},\n",
    "    stream_mode=\"values\",\n",
    ")\n",
    "for event in events:\n",
    "    event[\"messages\"][-1].pretty_print()"
   ]
  },
  {
   "cell_type": "code",
   "execution_count": 9,
   "id": "952acaa9",
   "metadata": {},
   "outputs": [
    {
     "name": "stdout",
     "output_type": "stream",
     "text": [
      "================================\u001b[1m Human Message \u001b[0m=================================\n",
      "\n",
      "Remember my name?\n",
      "==================================\u001b[1m Ai Message \u001b[0m==================================\n",
      "\n",
      "Yes, Will! I remember that you told me your name is Will at the beginning of our conversation. You're the same person I've been chatting with in this session.\n",
      "\n",
      "As I mentioned before, while I can remember details within our current conversation, I don't have persistent memory between different chat sessions. So if you start a new conversation later, I won't automatically remember that your name is Will unless you tell me again.\n",
      "\n",
      "Is there something specific you'd like to discuss or work on, Will?\n"
     ]
    }
   ],
   "source": [
    "user_input = \"Remember my name?\"\n",
    "# The only difference is we change the `thread_id` here to \"2\" instead of \"1\"\n",
    "events = graph.stream(\n",
    "    {\"messages\": [{\"role\": \"user\", \"content\": user_input}]},\n",
    "    {\"configurable\": {\"thread_id\": \"1\"}},\n",
    "    stream_mode=\"values\",\n",
    ")\n",
    "for event in events:\n",
    "    event[\"messages\"][-1].pretty_print()"
   ]
  },
  {
   "cell_type": "code",
   "execution_count": 10,
   "id": "e8bdbf7d",
   "metadata": {},
   "outputs": [
    {
     "data": {
      "text/plain": [
       "StateSnapshot(values={'messages': [HumanMessage(content='Hi there! My name is Will.', additional_kwargs={}, response_metadata={}, id='3818a654-acc8-4fa6-89a0-835202949f79'), AIMessage(content=\"Hi Will! Nice to meet you. I'm here to help you with any questions or tasks you might have. Whether you need information, research assistance, or help with various topics, feel free to ask! What can I do for you today?\", additional_kwargs={'refusal': None}, response_metadata={'token_usage': {'completion_tokens': 50, 'prompt_tokens': 1806, 'total_tokens': 1856, 'completion_tokens_details': None, 'prompt_tokens_details': {'audio_tokens': None, 'cached_tokens': 1792}, 'prompt_cache_hit_tokens': 1792, 'prompt_cache_miss_tokens': 14}, 'model_name': 'deepseek-chat', 'system_fingerprint': 'fp_feb633d1f5_prod0820_fp8_kvcache', 'id': '417737d8-21f8-4b16-9353-7ae2981e94c9', 'service_tier': None, 'finish_reason': 'stop', 'logprobs': None}, id='run--67f3b7e6-c897-4520-88f3-bf3847315100-0', usage_metadata={'input_tokens': 1806, 'output_tokens': 50, 'total_tokens': 1856, 'input_token_details': {'cache_read': 1792}, 'output_token_details': {}}), HumanMessage(content='Remember my name?', additional_kwargs={}, response_metadata={}, id='29e2798d-a3b8-4a37-87c9-09a8c970e6fa'), AIMessage(content=\"Yes, Will! I remember that you introduced yourself as Will at the beginning of our conversation. It's nice to chat with you! \\n\\nHowever, I should note that I don't have persistent memory between conversations, so if you start a new chat session later, I won't remember this interaction or your name unless you tell me again.\\n\\nWhat would you like to talk about or work on today, Will?\", additional_kwargs={'refusal': None}, response_metadata={'token_usage': {'completion_tokens': 82, 'prompt_tokens': 1864, 'total_tokens': 1946, 'completion_tokens_details': None, 'prompt_tokens_details': {'audio_tokens': None, 'cached_tokens': 1792}, 'prompt_cache_hit_tokens': 1792, 'prompt_cache_miss_tokens': 72}, 'model_name': 'deepseek-chat', 'system_fingerprint': 'fp_feb633d1f5_prod0820_fp8_kvcache', 'id': '94e89db5-89d5-467c-932b-4706dd82879e', 'service_tier': None, 'finish_reason': 'stop', 'logprobs': None}, id='run--d259f1c3-8918-4212-a4cf-127eb88a6217-0', usage_metadata={'input_tokens': 1864, 'output_tokens': 82, 'total_tokens': 1946, 'input_token_details': {'cache_read': 1792}, 'output_token_details': {}}), HumanMessage(content='Remember my name?', additional_kwargs={}, response_metadata={}, id='d4ba0dc6-c2a0-4399-986b-8d8d6f778bc9'), AIMessage(content=\"Yes, Will! I remember that you told me your name is Will at the beginning of our conversation. You're the same person I've been chatting with in this session.\\n\\nAs I mentioned before, while I can remember details within our current conversation, I don't have persistent memory between different chat sessions. So if you start a new conversation later, I won't automatically remember that your name is Will unless you tell me again.\\n\\nIs there something specific you'd like to discuss or work on, Will?\", additional_kwargs={'refusal': None}, response_metadata={'token_usage': {'completion_tokens': 101, 'prompt_tokens': 1954, 'total_tokens': 2055, 'completion_tokens_details': None, 'prompt_tokens_details': {'audio_tokens': None, 'cached_tokens': 1920}, 'prompt_cache_hit_tokens': 1920, 'prompt_cache_miss_tokens': 34}, 'model_name': 'deepseek-chat', 'system_fingerprint': 'fp_feb633d1f5_prod0820_fp8_kvcache', 'id': '736470a6-1cb8-4048-ae9c-5a38b2be31e5', 'service_tier': None, 'finish_reason': 'stop', 'logprobs': None}, id='run--02abbec0-84a5-4f3c-a09e-8cff373682c3-0', usage_metadata={'input_tokens': 1954, 'output_tokens': 101, 'total_tokens': 2055, 'input_token_details': {'cache_read': 1920}, 'output_token_details': {}})]}, next=(), config={'configurable': {'thread_id': '1', 'checkpoint_ns': '', 'checkpoint_id': '1f084113-0b9b-68ae-8007-0137f8b697bd'}}, metadata={'source': 'loop', 'step': 7, 'parents': {}}, created_at='2025-08-28T13:16:21.527357+00:00', parent_config={'configurable': {'thread_id': '1', 'checkpoint_ns': '', 'checkpoint_id': '1f084112-b46e-667a-8006-824a6a77f08e'}}, tasks=(), interrupts=())"
      ]
     },
     "execution_count": 10,
     "metadata": {},
     "output_type": "execute_result"
    }
   ],
   "source": [
    "snapshot = graph.get_state(config)\n",
    "snapshot"
   ]
  },
  {
   "cell_type": "markdown",
   "id": "f3c1a1a2",
   "metadata": {},
   "source": [
    "# human in the loop"
   ]
  },
  {
   "cell_type": "code",
   "execution_count": 11,
   "id": "0bc1b3ca",
   "metadata": {},
   "outputs": [
    {
     "data": {
      "text/plain": [
       "<langgraph.graph.state.StateGraph at 0x22fc6dcfc50>"
      ]
     },
     "execution_count": 11,
     "metadata": {},
     "output_type": "execute_result"
    }
   ],
   "source": [
    "# human in the loop\n",
    "from typing import Annotated\n",
    "\n",
    "from langchain_tavily import TavilySearch\n",
    "from langchain_core.tools import tool\n",
    "from typing_extensions import TypedDict\n",
    "\n",
    "from langgraph.checkpoint.memory import InMemorySaver\n",
    "from langgraph.graph import StateGraph, START, END\n",
    "from langgraph.graph.message import add_messages\n",
    "from langgraph.prebuilt import ToolNode, tools_condition\n",
    "\n",
    "from langgraph.types import Command, interrupt\n",
    "\n",
    "class State(TypedDict):\n",
    "    messages: Annotated[list, add_messages]\n",
    "\n",
    "graph_builder = StateGraph(State)\n",
    "\n",
    "@tool\n",
    "def human_assistance(query: str) -> str:\n",
    "    \"\"\"Request assistance from a human.\"\"\"\n",
    "    human_response = interrupt({\"query\": query})\n",
    "    return human_response[\"data\"]\n",
    "\n",
    "tool = TavilySearch(max_results=2)\n",
    "tools = [tool, human_assistance]\n",
    "llm_with_tools = llm.bind_tools(tools)\n",
    "\n",
    "def chatbot(state: State):\n",
    "    message = llm_with_tools.invoke(state[\"messages\"])\n",
    "    # Because we will be interrupting during tool execution,\n",
    "    # we disable parallel tool calling to avoid repeating any\n",
    "    # tool invocations when we resume.\n",
    "    assert len(message.tool_calls) <= 1\n",
    "    return {\"messages\": [message]}\n",
    "\n",
    "graph_builder.add_node(\"chatbot\", chatbot)\n",
    "\n",
    "tool_node = ToolNode(tools=tools)\n",
    "graph_builder.add_node(\"tools\", tool_node)\n",
    "\n",
    "graph_builder.add_conditional_edges(\n",
    "    \"chatbot\",\n",
    "    tools_condition,\n",
    ")\n",
    "graph_builder.add_edge(\"tools\", \"chatbot\")\n",
    "graph_builder.add_edge(START, \"chatbot\")"
   ]
  }
 ],
 "metadata": {
  "kernelspec": {
   "display_name": "py313",
   "language": "python",
   "name": "python3"
  },
  "language_info": {
   "codemirror_mode": {
    "name": "ipython",
    "version": 3
   },
   "file_extension": ".py",
   "mimetype": "text/x-python",
   "name": "python",
   "nbconvert_exporter": "python",
   "pygments_lexer": "ipython3",
   "version": "3.13.5"
  }
 },
 "nbformat": 4,
 "nbformat_minor": 5
}
